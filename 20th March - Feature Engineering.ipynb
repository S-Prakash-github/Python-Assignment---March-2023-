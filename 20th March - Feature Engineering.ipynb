{
 "cells": [
  {
   "cell_type": "markdown",
   "id": "2588406b",
   "metadata": {},
   "source": [
    "#### Q1. What is data encoding? How is it useful in data science?"
   ]
  },
  {
   "cell_type": "markdown",
   "id": "258babb5",
   "metadata": {},
   "source": [
    "Data encoding is the process of converting data from one format or structure to another. It is a fundamental technique used in computer science to ensure that data is represented in a format that can be easily processed, stored, and transmitted.\n",
    "\n",
    "In data science, data encoding is useful in several ways. One of the most common uses of data encoding is to prepare data for machine learning algorithms. Machine learning algorithms typically require data to be represented in numerical format, which means that categorical or textual data must be converted into numerical values. This process is called encoding, and it allows machine learning models to process and analyze the data effectively.\n",
    "\n",
    "Data encoding is also useful in data compression, where it can be used to reduce the size of data files without losing any important information.\n",
    "\n",
    "Overall, data encoding is an essential tool in data science, as it enables data to be processed, stored, and analyzed more efficiently. It plays a critical role in preparing data for machine learning, data compression, and other data-related tasks."
   ]
  },
  {
   "cell_type": "markdown",
   "id": "4350a3e5",
   "metadata": {},
   "source": [
    "#### Q2. What is nominal encoding? Provide an example of how you would use it in a real-world scenario."
   ]
  },
  {
   "cell_type": "markdown",
   "id": "8cc18bfe",
   "metadata": {},
   "source": [
    "Nominal encoding is a type of categorical data encoding technique used in machine learning and data analysis. It involves assigning a unique numerical value to each category or level of a categorical variable, without any specific order or hierarchy among the categories.\n",
    "\n",
    "For example, consider a dataset that includes information on the type of fruits sold in a grocery store. The fruit type variable is a categorical variable, with categories such as \"apple,\" \"banana,\" \"orange,\" etc. Nominal encoding can be used to convert this categorical variable into a numerical variable, with each fruit type assigned a unique integer value, such as \"apple\" = 1, \"banana\" = 2, \"orange\" = 3, and so on.\n",
    "Nominal encoding is useful in machine learning algorithms because it allows us to use categorical variables in mathematical models. It also helps to reduce the computational complexity of the algorithms by converting categorical data into numerical data.\n",
    "\n",
    "In a real-world scenario, nominal encoding can be used in various applications, such as sentiment analysis, fraud detection, customer segmentation, and more. For example, in sentiment analysis, nominal encoding can be used to encode sentiment labels such as \"positive,\" \"negative,\" and \"neutral\" into numerical values, which can then be used in machine learning models to classify text data based on sentiment."
   ]
  },
  {
   "cell_type": "code",
   "execution_count": 20,
   "id": "1a7c754b",
   "metadata": {},
   "outputs": [
    {
     "data": {
      "text/html": [
       "<div>\n",
       "<style scoped>\n",
       "    .dataframe tbody tr th:only-of-type {\n",
       "        vertical-align: middle;\n",
       "    }\n",
       "\n",
       "    .dataframe tbody tr th {\n",
       "        vertical-align: top;\n",
       "    }\n",
       "\n",
       "    .dataframe thead th {\n",
       "        text-align: right;\n",
       "    }\n",
       "</style>\n",
       "<table border=\"1\" class=\"dataframe\">\n",
       "  <thead>\n",
       "    <tr style=\"text-align: right;\">\n",
       "      <th></th>\n",
       "      <th>Gender_Female</th>\n",
       "      <th>Gender_Male</th>\n",
       "      <th>Name</th>\n",
       "      <th>Gender</th>\n",
       "    </tr>\n",
       "  </thead>\n",
       "  <tbody>\n",
       "    <tr>\n",
       "      <th>0</th>\n",
       "      <td>0.0</td>\n",
       "      <td>1.0</td>\n",
       "      <td>Prakash</td>\n",
       "      <td>Male</td>\n",
       "    </tr>\n",
       "    <tr>\n",
       "      <th>1</th>\n",
       "      <td>1.0</td>\n",
       "      <td>0.0</td>\n",
       "      <td>Singh</td>\n",
       "      <td>Female</td>\n",
       "    </tr>\n",
       "    <tr>\n",
       "      <th>2</th>\n",
       "      <td>0.0</td>\n",
       "      <td>1.0</td>\n",
       "      <td>Raj</td>\n",
       "      <td>Male</td>\n",
       "    </tr>\n",
       "    <tr>\n",
       "      <th>3</th>\n",
       "      <td>1.0</td>\n",
       "      <td>0.0</td>\n",
       "      <td>Shaw</td>\n",
       "      <td>Female</td>\n",
       "    </tr>\n",
       "  </tbody>\n",
       "</table>\n",
       "</div>"
      ],
      "text/plain": [
       "   Gender_Female  Gender_Male     Name  Gender\n",
       "0            0.0          1.0  Prakash    Male\n",
       "1            1.0          0.0    Singh  Female\n",
       "2            0.0          1.0      Raj    Male\n",
       "3            1.0          0.0     Shaw  Female"
      ]
     },
     "execution_count": 20,
     "metadata": {},
     "output_type": "execute_result"
    }
   ],
   "source": [
    "## Nominal Encoding\n",
    "from sklearn.preprocessing import OneHotEncoder\n",
    "import numpy as np\n",
    "import pandas as pd\n",
    "import matplotlib.pyplot as plt\n",
    "encoder = OneHotEncoder()\n",
    "df = pd.DataFrame({\"Name\" : [ \"Prakash\",\"Singh\",\"Raj\",\"Shaw\"],\n",
    "                  \"Gender\" : [\"Male\",\"Female\",\"Male\",\"Female\"]})\n",
    "encoded = encoder.fit_transform(df[[\"Gender\"]])\n",
    "encoded_df = pd.DataFrame(encoded.toarray(),columns = encoder.get_feature_names_out())\n",
    "df1 = pd.concat([encoded_df,df],axis = 1)\n",
    "df1"
   ]
  },
  {
   "cell_type": "markdown",
   "id": "9b9b8323",
   "metadata": {},
   "source": [
    "#### Q3. In what situations is nominal encoding preferred over one-hot encoding? Provide a practical example"
   ]
  },
  {
   "cell_type": "markdown",
   "id": "34b1ff1e",
   "metadata": {},
   "source": [
    "Nominal encoding is preferred over one-hot encoding when the categorical variable has a large number of categories, and one-hot encoding would result in a high-dimensional and sparse feature matrix. In such cases, nominal encoding reduces the dimensionality of the data and can lead to improved model performance.\n",
    "\n",
    "A practical example where nominal encoding can be preferred over one-hot encoding is in the case of natural language processing (NLP) tasks. Consider a dataset of customer reviews for a product, where each review is categorized as \"positive,\" \"negative,\" or \"neutral.\" The sentiment labels are nominal categories, and there are only three categories in this case. One-hot encoding this variable would result in a sparse matrix with three columns, which is not computationally efficient, especially for large datasets.\n",
    "\n",
    "On the other hand, nominal encoding can assign a unique numerical value to each sentiment label, such as \"positive\" = 1, \"negative\" = 2, \"neutral\" = 3. This results in a much simpler feature matrix with only one column, which can be easily fed into a machine learning algorithm.\n",
    "\n",
    "Another advantage of nominal encoding is that it can preserve some of the ordinal information in the categorical variable, which is lost in one-hot encoding. For example, if we have a categorical variable for education level with categories \"high school,\" \"bachelor's,\" \"master's,\" and \"Ph.D.,\" nominal encoding can assign values 1 to 4 based on the increasing level of education. One-hot encoding, on the other hand, would treat each category as independent, resulting in a loss of the ordinal information.\n",
    "\n",
    "In summary, nominal encoding is preferred over one-hot encoding when dealing with categorical variables with a large number of categories or when preserving ordinal information is important."
   ]
  },
  {
   "cell_type": "markdown",
   "id": "44ebe54e",
   "metadata": {},
   "source": [
    "#### Q4. Suppose you have a dataset containing categorical data with 5 unique values. Which encoding technique would you use to transform this data into a format suitable for machine learning algorithms? Explain why you made this choice."
   ]
  },
  {
   "cell_type": "markdown",
   "id": "c1d1e2dc",
   "metadata": {},
   "source": [
    "The choice of categorical encoding technique depends on the specific nature of the data and the requirements of the machine learning task. However, with only 5 unique values in the dataset, both nominal encoding and one-hot encoding would be feasible options.\n",
    "This also depends on weather if the featuresa have any preference of ranking. If it can be ordered by the uniquq values then we would the ordinal encoding."
   ]
  },
  {
   "cell_type": "markdown",
   "id": "5b557f0d",
   "metadata": {},
   "source": [
    "#### Q5. In a machine learning project, you have a dataset with 1000 rows and 5 columns. Two of the columns are categorical, and the remaining three columns are numerical. If you were to use nominal encoding to transform the categorical data, how many new columns would be created? Show your calculations."
   ]
  },
  {
   "cell_type": "markdown",
   "id": "d48a94ee",
   "metadata": {},
   "source": [
    "If we use nominal encoding to transform the two categorical columns in the dataset, we will create new columns for each unique value in each column. The number of new columns created will depend on the number of unique values in each column.\n",
    "\n",
    "Let's assume that the first categorical column has m unique values and the second categorical column has n unique values.\n",
    "\n",
    "For each categorical column, we create a new column for each unique value, resulting in m+n new columns. Each new column will have a binary value indicating whether the original value in the categorical column matches that value or not.\n",
    "\n",
    "Therefore, the total number of new columns created by nominal encoding will be m+n.\n",
    "\n",
    "We don't know the exact number of unique values in the two categorical columns, but let's assume that the first column has 4 unique values and the second column has 5 unique values. So, m=4 and n=5.\n",
    "\n",
    "Therefore, the total number of new columns created by nominal encoding will be 4+5 = 9.\n",
    "\n",
    "Thus, the dataset will have 9 new columns after nominal encoding of the categorical data"
   ]
  },
  {
   "cell_type": "markdown",
   "id": "6dff7e0c",
   "metadata": {},
   "source": [
    "#### Q6. You are working with a dataset containing information about different types of animals, including their species, habitat, and diet. Which encoding technique would you use to transform the categorical data into a format suitable for machine learning algorithms? Justify your answer."
   ]
  },
  {
   "cell_type": "markdown",
   "id": "c2a2f957",
   "metadata": {},
   "source": [
    "In the case of the animal dataset, I would recommend using one-hot encoding to transform the categorical data. One-hot encoding is a technique that converts categorical data into a binary vector format, where each unique category is represented by a binary column. This technique is suitable for the animal dataset because:\n",
    "\n",
    "-  The categorical variables in the dataset (species, habitat, and diet) do not have a natural ordering, making nominal or ordinal encoding less suitable.\n",
    "- One-hot encoding is useful when the number of unique categories is not too large, which is the case for the animal dataset.\n",
    "- One-hot encoding preserves the distinction between categories and does not introduce any ordinal relationship between them, which is important in the context of animal species, habitat, and diet."
   ]
  },
  {
   "cell_type": "markdown",
   "id": "8f9c2c91",
   "metadata": {},
   "source": [
    "#### Q7.You are working on a project that involves predicting customer churn for a telecommunications company. You have a dataset with 5 features, including the customer's gender, age, contract type, monthly charges, and tenure. Which encoding technique(s) would you use to transform the categorical data into numerical data? Provide a step-by-step explanation of how you would implement the encoding."
   ]
  },
  {
   "cell_type": "markdown",
   "id": "40e77c36",
   "metadata": {},
   "source": [
    "To transform the categorical data in the customer churn dataset into numerical data, I would use a combination of ordinal and one-hot encoding techniques.\n",
    "\n",
    "Ordinal Encoding:\n",
    "I would use ordinal encoding to transform the \"contract type\" feature, as it has an inherent ordering. I would assign a numerical value to each level of the \"contract type\" feature based on their order. For example, I could encode \"Month-to-month\" as 1, \"One year\" as 2, and \"Two year\" as 3.\n",
    "I would use target guided ordinal encoding on the monthly charges and tenure as there is a relationship between the two features.\n",
    "\n",
    "One-Hot Encoding:\n",
    "I would use one-hot encoding to transform the \"gender\" feature, as it has only two categories, male and female. I would create two new binary columns, one for each gender. If a customer is male, the value in the \"male\" column would be 1 and the value in the \"female\" column would be 0, and vice versa."
   ]
  }
 ],
 "metadata": {
  "kernelspec": {
   "display_name": "Python 3 (ipykernel)",
   "language": "python",
   "name": "python3"
  },
  "language_info": {
   "codemirror_mode": {
    "name": "ipython",
    "version": 3
   },
   "file_extension": ".py",
   "mimetype": "text/x-python",
   "name": "python",
   "nbconvert_exporter": "python",
   "pygments_lexer": "ipython3",
   "version": "3.9.13"
  }
 },
 "nbformat": 4,
 "nbformat_minor": 5
}
