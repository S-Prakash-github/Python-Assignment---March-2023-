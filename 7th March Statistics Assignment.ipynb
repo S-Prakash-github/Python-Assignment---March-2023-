{
 "cells": [
  {
   "cell_type": "markdown",
   "id": "af643be6",
   "metadata": {},
   "source": [
    "#### Q1. What are the three measures of central tendency?"
   ]
  },
  {
   "cell_type": "markdown",
   "id": "b2155ae7",
   "metadata": {},
   "source": [
    "The three measures of Central Tendency are :\n",
    "\n",
    "\n",
    "    - Mean\n",
    "    - Median\n",
    "    - Mode"
   ]
  },
  {
   "cell_type": "markdown",
   "id": "6eb88ddf",
   "metadata": {},
   "source": [
    "#### Q2. What is the difference between the mean, median, and mode? How are they used to measure the central tendency of a dataset?"
   ]
  },
  {
   "cell_type": "markdown",
   "id": "262df743",
   "metadata": {},
   "source": [
    "The three measures of central tendency are:\n",
    "\n",
    "The mean is calculated by adding up all the values in a dataset and dividing by the total number of values. It is sensitive to extreme values, or outliers, that may significantly affect the value of the mean. The mean is often used as a representative value for a dataset that is normally distributed.\n",
    "\n",
    "The median is the middle value in a dataset when the values are arranged in order from lowest to highest. It is not affected by extreme values, making it useful for datasets with outliers or skewed distributions. The median is particularly useful for ordinal or interval data, such as ages or test scores.\n",
    "\n",
    "The mode is the most common value in a dataset. It is particularly useful for categorical or nominal data, such as favorite color or type of car. The mode is not affected by outliers or extreme values, but it may not be unique or may not exist if there is no value that appears more frequently than others.\n"
   ]
  },
  {
   "cell_type": "code",
   "execution_count": 7,
   "id": "ef555a12",
   "metadata": {},
   "outputs": [
    {
     "data": {
      "text/html": [
       "<div>\n",
       "<style scoped>\n",
       "    .dataframe tbody tr th:only-of-type {\n",
       "        vertical-align: middle;\n",
       "    }\n",
       "\n",
       "    .dataframe tbody tr th {\n",
       "        vertical-align: top;\n",
       "    }\n",
       "\n",
       "    .dataframe thead th {\n",
       "        text-align: right;\n",
       "    }\n",
       "</style>\n",
       "<table border=\"1\" class=\"dataframe\">\n",
       "  <thead>\n",
       "    <tr style=\"text-align: right;\">\n",
       "      <th></th>\n",
       "      <th>survived</th>\n",
       "      <th>pclass</th>\n",
       "      <th>sex</th>\n",
       "      <th>age</th>\n",
       "      <th>sibsp</th>\n",
       "      <th>parch</th>\n",
       "      <th>fare</th>\n",
       "      <th>embarked</th>\n",
       "      <th>class</th>\n",
       "      <th>who</th>\n",
       "      <th>adult_male</th>\n",
       "      <th>deck</th>\n",
       "      <th>embark_town</th>\n",
       "      <th>alive</th>\n",
       "      <th>alone</th>\n",
       "    </tr>\n",
       "  </thead>\n",
       "  <tbody>\n",
       "    <tr>\n",
       "      <th>0</th>\n",
       "      <td>0</td>\n",
       "      <td>3</td>\n",
       "      <td>male</td>\n",
       "      <td>22.0</td>\n",
       "      <td>1</td>\n",
       "      <td>0</td>\n",
       "      <td>7.25</td>\n",
       "      <td>S</td>\n",
       "      <td>Third</td>\n",
       "      <td>man</td>\n",
       "      <td>True</td>\n",
       "      <td>NaN</td>\n",
       "      <td>Southampton</td>\n",
       "      <td>no</td>\n",
       "      <td>False</td>\n",
       "    </tr>\n",
       "  </tbody>\n",
       "</table>\n",
       "</div>"
      ],
      "text/plain": [
       "   survived  pclass   sex   age  sibsp  parch  fare embarked  class  who  \\\n",
       "0         0       3  male  22.0      1      0  7.25        S  Third  man   \n",
       "\n",
       "   adult_male deck  embark_town alive  alone  \n",
       "0        True  NaN  Southampton    no  False  "
      ]
     },
     "execution_count": 7,
     "metadata": {},
     "output_type": "execute_result"
    }
   ],
   "source": [
    "import seaborn as sns\n",
    "import warnings\n",
    "warnings.filterwarnings(\"ignore\")\n",
    "\n",
    "df = sns.load_dataset(\"titanic\")\n",
    "df.head(1)"
   ]
  },
  {
   "cell_type": "code",
   "execution_count": 8,
   "id": "cae671f9",
   "metadata": {},
   "outputs": [
    {
     "data": {
      "text/plain": [
       "survived       0.383838\n",
       "pclass         2.308642\n",
       "age           29.699118\n",
       "sibsp          0.523008\n",
       "parch          0.381594\n",
       "fare          32.204208\n",
       "adult_male     0.602694\n",
       "alone          0.602694\n",
       "dtype: float64"
      ]
     },
     "execution_count": 8,
     "metadata": {},
     "output_type": "execute_result"
    }
   ],
   "source": [
    "## from just seeeing the mean and median we can conclude that the fare column has some high values \n",
    "## resulting a higher mean than median\n",
    "df.mean()"
   ]
  },
  {
   "cell_type": "code",
   "execution_count": 9,
   "id": "8f476452",
   "metadata": {
    "scrolled": true
   },
   "outputs": [
    {
     "name": "stdout",
     "output_type": "stream",
     "text": [
      "survived       0.0000\n",
      "pclass         3.0000\n",
      "age           28.0000\n",
      "sibsp          0.0000\n",
      "parch          0.0000\n",
      "fare          14.4542\n",
      "adult_male     1.0000\n",
      "alone          1.0000\n",
      "dtype: float64\n"
     ]
    }
   ],
   "source": [
    "print(df.median())"
   ]
  },
  {
   "cell_type": "code",
   "execution_count": 12,
   "id": "abc62d97",
   "metadata": {},
   "outputs": [
    {
     "data": {
      "text/html": [
       "<div>\n",
       "<style scoped>\n",
       "    .dataframe tbody tr th:only-of-type {\n",
       "        vertical-align: middle;\n",
       "    }\n",
       "\n",
       "    .dataframe tbody tr th {\n",
       "        vertical-align: top;\n",
       "    }\n",
       "\n",
       "    .dataframe thead th {\n",
       "        text-align: right;\n",
       "    }\n",
       "</style>\n",
       "<table border=\"1\" class=\"dataframe\">\n",
       "  <thead>\n",
       "    <tr style=\"text-align: right;\">\n",
       "      <th></th>\n",
       "      <th>survived</th>\n",
       "      <th>pclass</th>\n",
       "      <th>sex</th>\n",
       "      <th>age</th>\n",
       "      <th>sibsp</th>\n",
       "      <th>parch</th>\n",
       "      <th>fare</th>\n",
       "      <th>embarked</th>\n",
       "      <th>class</th>\n",
       "      <th>who</th>\n",
       "      <th>adult_male</th>\n",
       "      <th>deck</th>\n",
       "      <th>embark_town</th>\n",
       "      <th>alive</th>\n",
       "      <th>alone</th>\n",
       "    </tr>\n",
       "  </thead>\n",
       "  <tbody>\n",
       "    <tr>\n",
       "      <th>0</th>\n",
       "      <td>0</td>\n",
       "      <td>3</td>\n",
       "      <td>male</td>\n",
       "      <td>24.0</td>\n",
       "      <td>0</td>\n",
       "      <td>0</td>\n",
       "      <td>8.05</td>\n",
       "      <td>S</td>\n",
       "      <td>Third</td>\n",
       "      <td>man</td>\n",
       "      <td>True</td>\n",
       "      <td>C</td>\n",
       "      <td>Southampton</td>\n",
       "      <td>no</td>\n",
       "      <td>True</td>\n",
       "    </tr>\n",
       "  </tbody>\n",
       "</table>\n",
       "</div>"
      ],
      "text/plain": [
       "   survived  pclass   sex   age  sibsp  parch  fare embarked  class  who  \\\n",
       "0         0       3  male  24.0      0      0  8.05        S  Third  man   \n",
       "\n",
       "   adult_male deck  embark_town alive  alone  \n",
       "0        True    C  Southampton    no   True  "
      ]
     },
     "execution_count": 12,
     "metadata": {},
     "output_type": "execute_result"
    }
   ],
   "source": [
    "## from mode we can colclude the most frequently occuring values in the dataset\n",
    "df.mode()"
   ]
  },
  {
   "cell_type": "markdown",
   "id": "c1b84f2c",
   "metadata": {},
   "source": [
    "#### Q3. Measure the three measures of central tendency for the given height data:\n",
    " [178,177,176,177,178.2,178,175,179,180,175,178.9,176.2,177,172.5,178,176.5]"
   ]
  },
  {
   "cell_type": "code",
   "execution_count": 29,
   "id": "013d33e5",
   "metadata": {},
   "outputs": [
    {
     "name": "stdout",
     "output_type": "stream",
     "text": [
      "MEAN:  177.01875\n",
      "MEDIAN:  177.0\n",
      "MODE:  178\n"
     ]
    },
    {
     "data": {
      "text/plain": [
       "<AxesSubplot:ylabel='Count'>"
      ]
     },
     "execution_count": 29,
     "metadata": {},
     "output_type": "execute_result"
    },
    {
     "data": {
      "image/png": "[encoded data removed]",
      "text/plain": [
       "<Figure size 640x480 with 1 Axes>"
      ]
     },
     "metadata": {},
     "output_type": "display_data"
    }
   ],
   "source": [
    "height = [178,177,176,177,178.2,178,175,179,180,175,178.9,176.2,177,172.5,178,176.5]\n",
    "import numpy as np\n",
    "import statistics\n",
    "print(\"MEAN: \" , np.mean(height))\n",
    "print(\"MEDIAN: \" , np.median(height))  \n",
    "print(\"MODE: \" , statistics.mode(height))     \n",
    "## this is a left skewed dataset\n",
    "import seaborn as sns\n",
    "sns.histplot(x = height, kde = True, color = \"#3A1078\")"
   ]
  },
  {
   "cell_type": "markdown",
   "id": "ba13f6e8",
   "metadata": {},
   "source": [
    "#### Q4. Find the standard deviation for the given data:\n",
    "\n",
    "[178,177,176,177,178.2,178,175,179,180,175,178.9,176.2,177,172.5,178,176.5]"
   ]
  },
  {
   "cell_type": "code",
   "execution_count": 33,
   "id": "4b3657a0",
   "metadata": {},
   "outputs": [
    {
     "name": "stdout",
     "output_type": "stream",
     "text": [
      "Standard deviation : 1.7885814036548633\n"
     ]
    }
   ],
   "source": [
    "data = [178,177,176,177,178.2,178,175,179,180,175,178.9,176.2,177,172.5,178,176.5]\n",
    "print(\"Standard deviation :\" , np.std(data))"
   ]
  },
  {
   "cell_type": "markdown",
   "id": "d84f2438",
   "metadata": {},
   "source": [
    "#### Q5. How are measures of dispersion such as range, variance, and standard deviation used to describe the spread of a dataset? Provide an example"
   ]
  },
  {
   "cell_type": "markdown",
   "id": "3744e20e",
   "metadata": {},
   "source": [
    "Measures of dispersion such as range, variance, and standard deviation are used to describe the spread or variability of a dataset. They provide information about how much the individual values in the dataset deviate from the central tendency measure (such as the mean or median) and how spread out the data is.\n",
    "\n",
    "Range: Range is the difference between the largest and smallest value in a dataset. It provides a simple measure of the spread of a dataset, but it can be affected by outliers. For example, if we have a dataset of test scores, the range would be the difference between the highest and lowest score.\n",
    "\n",
    "Variance: Variance measures how much the individual values in a dataset vary from the mean. It is calculated by taking the sum of the squared deviations of each value from the mean, divided by the number of observations minus 1. A larger variance indicates a wider spread of the data. For example, if we have a dataset of heights of students in a class, the variance would measure how much the individual heights differ from the mean height of the class.\n",
    "\n",
    "Standard deviation: The standard deviation is the square root of the variance. It provides a measure of the spread of the data in the same units as the original data. A larger standard deviation indicates a wider spread of the data. For example, if we have a dataset of annual incomes of employees in a company, the standard deviation would measure how much the individual incomes differ from the average income of the company.\n",
    "\n",
    "For example, suppose we have a dataset of the monthly sales of a small business over the last 12 months, in thousands of dollars: 10, 12, 8, 14, 11, 13, 9, 15, 16, 7, 12, 10. The sample mean is:\n",
    "\n",
    "x̄ = (10+12+8+14+11+13+9+15+16+7+12+10) / 12 = 11.33\n",
    "\n",
    "To calculate the range, we subtract the minimum value from the maximum value:\n",
    "\n",
    "Range = 16 - 7 = 9\n",
    "\n",
    "To calculate the variance, we first calculate the deviations of each value from the mean:\n",
    "\n",
    "(10-11.33)² + (12-11.33)² + (8-11.33)² + ... + (10-11.33)² = 43.09\n",
    "\n",
    "Then, we divide by the number of observations minus 1:\n",
    "\n",
    "s² = 43.09 / (12-1) = 3.76\n",
    "\n",
    "To calculate the standard deviation, we take the square root of the variance:\n",
    "\n",
    "s = sqrt(3.76) = 1.94\n",
    "\n",
    "Therefore, the range of the dataset is 9, the variance is 3.76, and the standard deviation is 1.94. These measures describe the spread of the data around the mean value of 11.33."
   ]
  },
  {
   "cell_type": "markdown",
   "id": "ad96b72a",
   "metadata": {},
   "source": [
    "#### Q6. What is a Venn diagram?"
   ]
  },
  {
   "cell_type": "markdown",
   "id": "23008d75",
   "metadata": {},
   "source": [
    "A Venn diagram is a graphical representation of the relationships between different sets or groups. It consists of one or more circles or other shapes that overlap to show the commonalities and differences between the sets.\n",
    "\n",
    "The circles or shapes in a Venn diagram represent the sets being compared, and the overlapping areas show the elements or values that are shared by the sets. The non-overlapping areas represent the elements or values that are unique to each set."
   ]
  },
  {
   "cell_type": "markdown",
   "id": "c25fa01b",
   "metadata": {},
   "source": [
    "#### Q7. For the two given sets A = (2,3,4,5,6,7) & B = (0,2,6,8,10). Find:\n",
    "\n",
    "(i) \tA ⋂ B\n",
    "\n",
    "(ii)\tA ⋃ B"
   ]
  },
  {
   "cell_type": "markdown",
   "id": "b36a9bb5",
   "metadata": {},
   "source": [
    ">A ⋂ B = (2,6)\n",
    "\n",
    ">A U B = (0,2,3,4,5,6,7,8,10)"
   ]
  },
  {
   "cell_type": "markdown",
   "id": "4ce3f8a8",
   "metadata": {},
   "source": [
    "#### Q8. What do you understand about skewness in data"
   ]
  },
  {
   "cell_type": "markdown",
   "id": "8e2f1c74",
   "metadata": {},
   "source": [
    "Skewness is a measure of the asymmetry of a dataset around its mean or median. A distribution is said to be skewed if it is not symmetrical. Skewness indicates the degree to which the data points are distributed on one side or the other side of the mean or median.\n",
    "Skewness is an important statistical concept because it can affect the interpretation of the data and the validity of certain statistical analyses. For example, in a positively skewed distribution, the mean may not be a good measure of central tendency because it can be influenced by a few extreme values on the right side. In such cases, the median may be a more appropriate measure of central tendency. Similarly, certain statistical tests assume that the data is normally distributed, and skewed data can violate this assumption, leading to inaccurate results. Therefore, it is important to understand and account for skewness when analyzing and interpreting data."
   ]
  },
  {
   "cell_type": "markdown",
   "id": "5bcdea7c",
   "metadata": {},
   "source": [
    "#### Q9. If a data is right skewed then what will be the position of median with respect to mean?"
   ]
  },
  {
   "cell_type": "code",
   "execution_count": 40,
   "id": "1314541f",
   "metadata": {},
   "outputs": [
    {
     "data": {
      "text/plain": [
       "[<matplotlib.lines.Line2D at 0x25b4d0b2520>]"
      ]
     },
     "execution_count": 40,
     "metadata": {},
     "output_type": "execute_result"
    },
    {
     "data": {
      "image/png": "[encoded data removed]",
      "text/plain": [
       "<Figure size 640x480 with 1 Axes>"
      ]
     },
     "metadata": {},
     "output_type": "display_data"
    }
   ],
   "source": [
    "##mean>= median>= mode\n",
    "##For example lets take a dataset\n",
    "x = [1,2,3,4,5,6,7,8,9,10]\n",
    "y = [14,12,10,8,6,4,4,2,1,1]\n",
    "import matplotlib.pyplot as plt\n",
    "plt.plot(x, y)\n"
   ]
  },
  {
   "cell_type": "markdown",
   "id": "81cd7b92",
   "metadata": {},
   "source": [
    "#### Q10. Explain the difference between covariance and correlation. How are these measures used in statistical analysis?"
   ]
  },
  {
   "cell_type": "markdown",
   "id": "c6d7de67",
   "metadata": {},
   "source": [
    "> The covariance and correlation is used in feature engineering and to determine the relationship (positive or negative ) between the features/attribute so that we can use the best features for our model.\n",
    "\n",
    "-Covariance\n",
    "\n",
    "Covariance measures the degree to which two variables vary together. It is a measure of the linear association between two variables, indicating the extent to which they change in the same direction. Specifically, covariance is calculated as the average of the products of the deviations of each variable from its mean. A positive covariance indicates that the two variables tend to increase or decrease together, while a negative covariance indicates that they tend to move in opposite directions.\n",
    "Drawback of covaiance is that it doesnot have any specific limit value.\n",
    "\n",
    "- Correaltion\n",
    "Correlation, on the other hand, is a standardized measure of the strength and direction of the linear relationship between two variables. Correlation is always a value between -1 and 1, with a correlation of 1 indicating a perfect positive relationship (i.e., when one variable increases, the other variable always increases), a correlation of -1 indicating a perfect negative relationship (i.e., when one variable increases, the other variable always decreases), and a correlation of -1 indicating no linear relationship between the two variables.\n",
    "\n",
    "- Pearson correlation coefficient\n",
    "We are tring to restrict the limit range between [-1 to 1] the coloser the value towards 1 means positive correlation , and towards zero means negitive correlation.\n",
    "We divide the cov(x,y) by the std of (x,y).\n",
    "- Spearmans correlation coefficient\n",
    "We are tring to restrict the limit range between [-1 to 1] the coloser the value towards 1 means positive correlation , and towards zero means negitive correlation.\n",
    "We divide the cov(rank(x),rank(y) ) with std of rank(x,y)\n",
    "Rank - it is basically the ranking of the values of x with respect to the magnitute of the values.\n",
    "\n",
    ">In statistical analysis, covariance and correlation are often used to assess the strength and direction of the relationship between two variables. Covariance is useful for determining whether two variables are positively or negatively related, but it is difficult to interpret because its value depends on the units of measurement of the variables. Correlation, on the other hand, is a standardized measure that allows for easy comparison between different variables, and it is often used to determine the degree to which changes in one variable can be used to predict changes in the other variable.\n",
    "\n",
    ">Correlation is often used in regression analysis to determine the strength and direction of the relationship between the dependent variable and one or more independent variables. Covariance is less commonly used in regression analysis, but it can be useful for determining the joint variability of two variables and for calculating the coefficients of determination in regression models."
   ]
  },
  {
   "cell_type": "markdown",
   "id": "77b4f24d",
   "metadata": {},
   "source": [
    "#### Q11. What is the formula for calculating the sample mean? Provide an example calculation for a dataset."
   ]
  },
  {
   "cell_type": "markdown",
   "id": "dc0a389e",
   "metadata": {},
   "source": [
    "The sample mean, denoted by x̄, is the sum of all values in a dataset divided by the number of observations in the dataset. The formula for calculating the sample mean is:\n",
    "\n",
    "x̄ = (Σxi) / n\n",
    "\n",
    "Where Σxi represents the sum of all values in the dataset, and n represents the number of observations.\n",
    "\n",
    "Here's an example calculation for a dataset of 5 numbers: 10, 12, 14, 16, and 18:\n",
    "\n",
    "x̄ = (10 + 12 + 14 + 16 + 18) / 5\n",
    "x̄ = 14\n",
    "\n",
    "Therefore, the sample mean for this dataset is 14."
   ]
  },
  {
   "cell_type": "code",
   "execution_count": 2,
   "id": "8047c5a4",
   "metadata": {},
   "outputs": [
    {
     "data": {
      "text/plain": [
       "14.0"
      ]
     },
     "execution_count": 2,
     "metadata": {},
     "output_type": "execute_result"
    }
   ],
   "source": [
    "import numpy as np\n",
    "dataset = [10,12,14,16,18]\n",
    "## finding the mean \n",
    "np.mean(dataset)"
   ]
  },
  {
   "cell_type": "markdown",
   "id": "cd4af9f4",
   "metadata": {},
   "source": [
    "#### Q12. For a normal distribution data what is the relationship between its measure of central tendency?"
   ]
  },
  {
   "cell_type": "markdown",
   "id": "4d4f1d20",
   "metadata": {},
   "source": [
    "For a normally distributed data the relationship between mean median and mode is\n",
    "mean = mode = median\n",
    "This is because the normal distribution is a symmetric bell-shaped curve, which has the same amount of data on both sides of the center."
   ]
  },
  {
   "cell_type": "markdown",
   "id": "3c884a9f",
   "metadata": {},
   "source": [
    "#### Q13. How is covariance different from correlation?"
   ]
  },
  {
   "cell_type": "markdown",
   "id": "44c5f5ed",
   "metadata": {},
   "source": [
    "Covariance is a measure of how two variables vary together. It is a measure of the joint variability of two random variables. Covariance can be positive, negative or zero. A positive covariance indicates that the two variables tend to increase or decrease together, while a negative covariance indicates that one variable tends to increase while the other decreases. A covariance of zero indicates that there is no linear relationship between the two variables.\n",
    "\n",
    "However, covariance does not give any information about the strength or direction of the relationship between the two variables, nor does it provide any standardized measure of the relationship.\n",
    "\n",
    "Correlation, on the other hand, is a standardized measure of the linear relationship between two variables. It measures the strength and direction of the linear relationship between two variables on a scale from -1 to +1. A correlation of +1 indicates a perfect positive linear relationship, a correlation of -1 indicates a perfect negative linear relationship, and a correlation of 0 indicates no linear relationship.\n",
    "\n",
    "Correlation is preferred over covariance when comparing relationships between variables because it is not affected by differences in the scales of the variables being compared. It is also more interpretable and easier to communicate to non-technical audiences."
   ]
  },
  {
   "cell_type": "markdown",
   "id": "f6a4386f",
   "metadata": {},
   "source": [
    "#### Q14. How do outliers affect measures of central tendency and dispersion? Provide an example"
   ]
  },
  {
   "cell_type": "markdown",
   "id": "969ea5cb",
   "metadata": {},
   "source": [
    "Outliers are data points that lie far away from the bulk of the data in a dataset. They can have a significant effect on measures of central tendency and dispersion.\n",
    "\n",
    ">Measures of central tendency, such as the mean or median, are affected by outliers because they are sensitive to extreme values. Outliers can significantly pull the mean away from the center of the data, making it an inaccurate representation of the typical value in the dataset. For example, if we have a dataset of salaries for employees in a company, and one employee has an extremely high salary, the mean salary of the company will be skewed upwards, making it appear as if the typical salary is higher than it actually is.\n",
    "\n",
    ">Measures of dispersion, such as the range or standard deviation, are also affected by outliers. Outliers can increase the range of the data and make it seem like the data is more spread out than it actually is. Additionally, the presence of outliers can increase the standard deviation, making it a less accurate measure of the spread of the data. For example, if we have a dataset of test scores for a class, and one student has an extremely low score, the range of the scores will be wider than it should be, and the standard deviation will be inflated.\n",
    "\n",
    "One approach to dealing with outliers is to remove them from the dataset if they are deemed to be genuine errors or anomalies. Another approach is to use robust statistical measures that are less sensitive to outliers, such as the median or interquartile range."
   ]
  },
  {
   "cell_type": "code",
   "execution_count": null,
   "id": "8d0ab01f",
   "metadata": {},
   "outputs": [],
   "source": []
  }
 ],
 "metadata": {
  "kernelspec": {
   "display_name": "Python 3 (ipykernel)",
   "language": "python",
   "name": "python3"
  },
  "language_info": {
   "codemirror_mode": {
    "name": "ipython",
    "version": 3
   },
   "file_extension": ".py",
   "mimetype": "text/x-python",
   "name": "python",
   "nbconvert_exporter": "python",
   "pygments_lexer": "ipython3",
   "version": "3.9.13"
  }
 },
 "nbformat": 4,
 "nbformat_minor": 5
}
