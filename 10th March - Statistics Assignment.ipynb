{
 "cells": [
  {
   "cell_type": "markdown",
   "id": "753f608f",
   "metadata": {},
   "source": [
    "#### Q1: What is Estimation Statistics? Explain point estimate and interval estimate"
   ]
  },
  {
   "cell_type": "markdown",
   "id": "229b32e4",
   "metadata": {},
   "source": [
    "Estimation statistics is a branch of statistics that deals with estimating population parameters (such as mean, variance, proportion) based on sample data. Estimation statistics involves using sample statistics to make inferences about population parameters.\n",
    "\n",
    "Point estimate is a single value that is used to estimate a population parameter. It is typically calculated using a sample statistic, such as the sample mean or sample proportion. For example, if we want to estimate the mean height of all students in a university, we can take a random sample of students and calculate the sample mean height. The sample mean height is a point estimate of the population mean height.\n",
    "\n",
    "Interval estimate, on the other hand, is a range of values that is likely to contain the population parameter with a certain level of confidence. Interval estimates are typically calculated using a point estimate and a measure of its precision, such as the standard error or the margin of error. For example, if we want to estimate the mean height of all students in a university with 95% confidence, we can calculate a 95% confidence interval using the sample mean height and the standard error of the mean. The resulting interval estimate would be a range of values within which we are 95% confident the population mean height falls."
   ]
  },
  {
   "cell_type": "markdown",
   "id": "30822702",
   "metadata": {},
   "source": [
    "#### Q2. Write a Python function to estimate the population mean using a sample mean and standard deviation."
   ]
  },
  {
   "cell_type": "code",
   "execution_count": 1,
   "id": "ac45dbc3",
   "metadata": {},
   "outputs": [],
   "source": [
    "def estimate_population_mean(sample_mean, sample_std_dev, sample_size):\n",
    "    \"\"\"Estimates the population mean using a sample mean and standard deviation.\n",
    "\n",
    "    Args:\n",
    "        sample_mean (float): The sample mean.\n",
    "        sample_std_dev (float): The sample standard deviation.\n",
    "        sample_size (int): The sample size.\n",
    "\n",
    "    Returns:\n",
    "        float: The estimated population mean.\n",
    "    \"\"\"\n",
    "    import math\n",
    "    \n",
    "    # Calculate the standard error of the mean\n",
    "    std_error_mean = sample_std_dev / math.sqrt(sample_size)\n",
    "    \n",
    "    # Calculate the margin of error using a 95% confidence interval\n",
    "    z_score = 1.96  # for a 95% confidence interval\n",
    "    margin_error = z_score * std_error_mean\n",
    "    \n",
    "    # Calculate the lower and upper bounds of the confidence interval\n",
    "    lower_bound = sample_mean - margin_error\n",
    "    upper_bound = sample_mean + margin_error\n",
    "    \n",
    "    # The estimated population mean is the midpoint of the confidence interval\n",
    "    estimated_pop_mean = (lower_bound + upper_bound) / 2\n",
    "    \n",
    "    return estimated_pop_mean"
   ]
  },
  {
   "cell_type": "code",
   "execution_count": null,
   "id": "638f320f",
   "metadata": {},
   "outputs": [],
   "source": []
  },
  {
   "cell_type": "markdown",
   "id": "64892698",
   "metadata": {},
   "source": [
    "#### Q3: What is Hypothesis testing? Why is it used? State the importance of Hypothesis testing"
   ]
  },
  {
   "cell_type": "markdown",
   "id": "3a1b47e4",
   "metadata": {},
   "source": [
    "Hypothesis testing is a statistical method used to determine whether a particular hypothesis or claim about a population is supported by the available evidence. It involves collecting data from a sample of the population and then using statistical techniques to determine whether the evidence supports or contradicts the hypothesis.\n",
    "\n",
    "Hypothesis testing is used in a wide range of fields, including science, medicine, engineering, finance, and marketing. It is particularly useful in situations where we want to draw conclusions about a large population based on a relatively small sample of data. Hypothesis testing allows us to make inferences about a population using data from a sample while controlling for the possibility of errors.\n",
    "\n",
    "The importance of hypothesis testing lies in its ability to provide a systematic and objective way to evaluate evidence and make decisions based on that evidence. Without hypothesis testing, it would be difficult to determine whether a particular claim or hypothesis is supported by the available data, and we would be forced to rely on intuition or guesswork.\n",
    "\n",
    "Hypothesis testing also allows us to quantify the degree of uncertainty associated with our conclusions. By calculating the probability of obtaining our results by chance, we can assess the strength of the evidence and make more informed decisions. This is particularly important in fields such as medicine and science, where decisions based on faulty or inadequate evidence can have serious consequences."
   ]
  },
  {
   "cell_type": "markdown",
   "id": "337761e9",
   "metadata": {},
   "source": [
    "#### Q4. Create a hypothesis that states whether the average weight of male college students is greater than the average weight of female college students."
   ]
  },
  {
   "cell_type": "markdown",
   "id": "ccec3fe0",
   "metadata": {},
   "source": [
    "A possible hypothesis for this question is:\n",
    "\n",
    "Hypothesis: The average weight of male college students is greater than the average weight of female college students.\n",
    "\n",
    "This is a one-tailed hypothesis, as it specifies a direction for the difference between the two populations (male and female college students). The alternative hypothesis could also be formulated as:\n",
    "\n",
    "Alternative hypothesis: The average weight of female college students is less than or equal to the average weight of male college students.\n",
    "\n",
    "Both hypotheses could be tested using a statistical test, such as a t-test or z-test, with a significance level (alpha) set in advance. The null hypothesis would be that there is no difference between the average weight of male and female college students. If the test results in a p-value lower than the significance level, the null hypothesis would be rejected in favor of the alternative hypothesis. If the p-value is higher than the significance level, we would fail to reject the null hypothesis and conclude that there is not enough evidence to support the claim that male college students are on average heavier than female college students.\n",
    "\n",
    "\n",
    "\n",
    "\n"
   ]
  },
  {
   "cell_type": "markdown",
   "id": "64e324da",
   "metadata": {},
   "source": [
    "#### Q5. Write a Python script to conduct a hypothesis test on the difference between two population means, given a sample from each population."
   ]
  },
  {
   "cell_type": "code",
   "execution_count": 1,
   "id": "ba567be7",
   "metadata": {},
   "outputs": [
    {
     "name": "stdout",
     "output_type": "stream",
     "text": [
      "Sample 1 Mean: 4.824841655641337\n",
      "Sample 2 Mean: 6.983772215624544\n",
      "Sample 1 Standard Deviation: 1.0802340341574874\n",
      "Sample 2 Standard Deviation: 1.0121810975772982\n",
      "t-Statistic: -14.583986230951888\n",
      "p-value: 3.668273347334157e-33\n"
     ]
    }
   ],
   "source": [
    "import numpy as np\n",
    "from scipy.stats import ttest_ind\n",
    "\n",
    "# Generate two samples from different populations\n",
    "sample1 = np.random.normal(5, 1, size=100)\n",
    "sample2 = np.random.normal(7, 1, size=100)\n",
    "\n",
    "# Calculate the sample means and standard deviations\n",
    "mean1 = np.mean(sample1)\n",
    "mean2 = np.mean(sample2)\n",
    "std1 = np.std(sample1, ddof=1)\n",
    "std2 = np.std(sample2, ddof=1)\n",
    "\n",
    "# Calculate the degrees of freedom and the t-statistic\n",
    "df = len(sample1) + len(sample2) - 2\n",
    "t_statistic, p_value = ttest_ind(sample1, sample2, equal_var=False)\n",
    "\n",
    "# Output the results\n",
    "print(\"Sample 1 Mean:\", mean1)\n",
    "print(\"Sample 2 Mean:\", mean2)\n",
    "print(\"Sample 1 Standard Deviation:\", std1)\n",
    "print(\"Sample 2 Standard Deviation:\", std2)\n",
    "print(\"t-Statistic:\", t_statistic)\n",
    "print(\"p-value:\", p_value)"
   ]
  },
  {
   "cell_type": "markdown",
   "id": "3822ad8b",
   "metadata": {},
   "source": [
    "#### Q6: What is a null and alternative hypothesis? Give some examples"
   ]
  },
  {
   "cell_type": "markdown",
   "id": "5bf26214",
   "metadata": {},
   "source": [
    "In statistics, a null hypothesis is a statement that proposes there is no significant difference between two variables, while an alternative hypothesis is a statement that opposes the null hypothesis and suggests there is a significant difference between the variables.\n",
    "\n",
    "For example, let's say a company wants to test whether a new marketing campaign is effective in increasing sales. The null hypothesis would be that there is no significant difference in sales before and after the campaign, while the alternative hypothesis would be that there is a significant increase in sales after the campaign.\n",
    "\n",
    "Another example could be a medical trial to test the efficacy of a new drug. The null hypothesis would be that there is no significant difference in health outcomes between patients who received the new drug and those who received a placebo, while the alternative hypothesis would be that the new drug has a significant effect on improving health outcomes.\n",
    "\n",
    "In essence, the null hypothesis is usually the default assumption, while the alternative hypothesis is what researchers are trying to prove. Hypothesis testing involves analyzing data to determine whether to reject or accept the null hypothesis based on the evidence available."
   ]
  },
  {
   "cell_type": "markdown",
   "id": "c9e0a543",
   "metadata": {},
   "source": [
    "#### Q7: Write down the steps involved in hypothesis testing."
   ]
  },
  {
   "cell_type": "markdown",
   "id": "c511976c",
   "metadata": {},
   "source": [
    "Hypothesis testing involves the following steps:\n",
    "\n",
    "- State the null and alternative hypotheses: The first step is to clearly state the null hypothesis and the alternative hypothesis. The null hypothesis should state that there is no significant difference between two variables, while the alternative hypothesis should state that there is a significant difference.\n",
    "\n",
    "- Determine the level of significance: The level of significance is the probability of rejecting the null hypothesis when it is actually true. It is typically set at 0.05 (5%).\n",
    "\n",
    "- Select an appropriate statistical test: The choice of statistical test depends on the type of data being analyzed and the research question being asked.\n",
    "\n",
    "- Collect and analyze data: Collect data and perform the appropriate statistical test to determine the test statistic (e.g., t-value, z-value, F-value).\n",
    "\n",
    "- Determine the critical value: The critical value is the value that the test statistic must exceed in order to reject the null hypothesis. The critical value depends on the level of significance and the degrees of freedom.\n",
    "\n",
    "- Compare the test statistic to the critical value: If the test statistic exceeds the critical value, the null hypothesis can be rejected. If the test statistic is less than the critical value, the null hypothesis cannot be rejected.\n",
    "\n",
    "- Interpret the results: Finally, interpret the results of the statistical test and make conclusions based on the evidence available. If the null hypothesis is rejected, it suggests that the alternative hypothesis may be true. If the null hypothesis is not rejected, it suggests that there is insufficient evidence to support the alternative hypothesis."
   ]
  },
  {
   "cell_type": "markdown",
   "id": "10744731",
   "metadata": {},
   "source": [
    "#### Q8. Define p-value and explain its significance in hypothesis testing"
   ]
  },
  {
   "cell_type": "markdown",
   "id": "718cef64",
   "metadata": {},
   "source": [
    "The p-value is a measure of the strength of evidence against the null hypothesis. It is the probability of obtaining a test statistic as extreme or more extreme than the one observed, assuming that the null hypothesis is true.\n",
    "\n",
    "In other words, the p-value is the probability of observing a difference between two groups that is as large or larger than the one we observed, assuming that there is no real difference between the groups. The smaller the p-value, the stronger the evidence against the null hypothesis, and the more likely it is that the alternative hypothesis is true.\n",
    "\n",
    "In hypothesis testing, we compare the p-value to the significance level (alpha) to determine whether to reject or fail to reject the null hypothesis. If the p-value is less than or equal to alpha, we reject the null hypothesis and conclude that there is enough evidence to support the alternative hypothesis. If the p-value is greater than alpha, we fail to reject the null hypothesis and conclude that there is insufficient evidence to support the alternative hypothesis.\n",
    "\n",
    ">For example, if the p-value is 0.02 and the significance level is 0.05, we would reject the null hypothesis and conclude that there is strong evidence to support the alternative hypothesis. Conversely, if the p-value is 0.06 and the significance level is 0.05, we would fail to reject the null hypothesis and conclude that there is insufficient evidence to support the alternative hypothesis.\n",
    "\n",
    "The p-value is an important concept in hypothesis testing because it helps us make decisions based on statistical evidence. It provides a quantitative measure of the strength of evidence against the null hypothesis and helps us determine whether a significant difference exists between two groups or variables.\n",
    "\n",
    "\n",
    "\n"
   ]
  },
  {
   "cell_type": "markdown",
   "id": "feb12728",
   "metadata": {},
   "source": [
    "#### Q9. Generate a Student's t-distribution plot using Python's matplotlib library, with the degrees of freedom parameter set to 10."
   ]
  },
  {
   "cell_type": "code",
   "execution_count": 3,
   "id": "bb483f4b",
   "metadata": {},
   "outputs": [
    {
     "data": {
      "image/png": "[encoded data removed]",
      "text/plain": [
       "<Figure size 640x480 with 1 Axes>"
      ]
     },
     "metadata": {},
     "output_type": "display_data"
    }
   ],
   "source": [
    "import matplotlib.pyplot as plt\n",
    "import numpy as np\n",
    "from scipy.stats import t\n",
    "\n",
    "# Define the degrees of freedom parameter\n",
    "dof = 10\n",
    "\n",
    "# Define the x-values to plot\n",
    "x = np.linspace(-4, 4, 1000)\n",
    "\n",
    "# Calculate the y-values of the t-distribution\n",
    "y = t.pdf(x, dof)\n",
    "\n",
    "# Create the plot\n",
    "fig, ax = plt.subplots()\n",
    "ax.plot(x, y)\n",
    "\n",
    "# Set the axis labels and title\n",
    "ax.set_xlabel('X')\n",
    "ax.set_ylabel('Probability density')\n",
    "ax.set_title(f'Student\\'s t-distribution with {df} degrees of freedom')\n",
    "\n",
    "# Display the plot\n",
    "plt.show()\n"
   ]
  },
  {
   "cell_type": "markdown",
   "id": "7ea52d43",
   "metadata": {},
   "source": [
    "#### Q10. Write a Python program to calculate the two-sample t-test for independent samples, given two random samples of equal size and a null hypothesis that the population means are equal."
   ]
  },
  {
   "cell_type": "code",
   "execution_count": 4,
   "id": "58c3df0b",
   "metadata": {},
   "outputs": [
    {
     "name": "stdout",
     "output_type": "stream",
     "text": [
      "Two-sample t-test statistic: -7.097\n",
      "p-value: 0.000\n"
     ]
    }
   ],
   "source": [
    "import numpy as np\n",
    "from scipy.stats import ttest_ind\n",
    "\n",
    "# Generate two random samples\n",
    "sample1 = np.random.normal(loc=10, scale=2, size=100)\n",
    "sample2 = np.random.normal(loc=12, scale=2, size=100)\n",
    "\n",
    "# Calculate the t-test\n",
    "t, p = ttest_ind(sample1, sample2)\n",
    "\n",
    "# Print the results\n",
    "print(f'Two-sample t-test statistic: {t:.3f}')\n",
    "print(f'p-value: {p:.3f}')\n"
   ]
  },
  {
   "cell_type": "markdown",
   "id": "27c0146b",
   "metadata": {},
   "source": [
    "#### Q11: What is Student’s t distribution? When to use the t-Distribution."
   ]
  },
  {
   "cell_type": "markdown",
   "id": "2ddf0de2",
   "metadata": {},
   "source": [
    "The Student's t-distribution is a probability distribution that is used to model the distribution of the t-statistic, which is a measure of the difference between the sample mean and the null hypothesis mean in units of the standard error of the sample mean. The t-distribution is similar to the normal distribution, but is wider and more spread out, especially when the sample size is small.\n",
    "\n",
    "The t-distribution is used in hypothesis testing when the sample size is small (typically less than 30) and the population standard deviation is unknown. In such cases, we use the sample standard deviation as an estimate of the population standard deviation, which introduces additional uncertainty into our calculations. The t-distribution accounts for this additional uncertainty by providing a wider and more spread out distribution than the normal distribution.\n",
    "\n",
    "We use the t-distribution to calculate critical values for the t-statistic and to determine the p-value associated with the t-statistic. The critical values are used to determine whether the difference between the sample mean and the null hypothesis mean is statistically significant at a given level of significance, while the p-value is used to determine the probability of observing a t-statistic as extreme or more extreme than the one calculated, assuming that the null hypothesis is true.\n",
    "\n",
    "In summary, we use the t-distribution when:\n",
    "\n",
    "- The sample size is small (typically less than 30)\n",
    "- The population standard deviation is unknown\n",
    "- We are conducting hypothesis testing and need to calculate critical values or p-values associated with the t-statistic."
   ]
  },
  {
   "cell_type": "markdown",
   "id": "faed8e71",
   "metadata": {},
   "source": [
    "#### Q12: What is t-statistic? State the formula for t-statistic."
   ]
  },
  {
   "cell_type": "markdown",
   "id": "c5691ec9",
   "metadata": {},
   "source": [
    "The t-statistic is a measure of the difference between the sample mean and the null hypothesis mean, in units of the standard error of the sample mean. It is used in hypothesis testing to determine whether the difference between the sample mean and null hypothesis mean is statistically significant.\n",
    "\n",
    "The formula for the t-statistic is:\n",
    "\n",
    ">t = (x̄ - μ) / (s / sqrt(n))\n",
    "\n",
    "Where:\n",
    "\n",
    "x̄ is the sample mean\n",
    "μ is the null hypothesis mean\n",
    "s is the sample standard deviation\n",
    "n is the sample size\n",
    "The t-statistic represents the number of standard errors that the sample mean is away from the null hypothesis mean. The larger the absolute value of the t-statistic, the greater the evidence against the null hypothesis.\n",
    "\n",
    "In hypothesis testing, we compare the calculated t-statistic to a critical value from the t-distribution, based on the degrees of freedom and the significance level. If the calculated t-statistic is greater than the critical value, we reject the null hypothesis and conclude that there is evidence to support the alternative hypothesis. If the calculated t-statistic is less than the critical value, we fail to reject the null hypothesis and conclude that there is insufficient evidence to support the alternative hypothesis."
   ]
  },
  {
   "cell_type": "markdown",
   "id": "f100d349",
   "metadata": {},
   "source": [
    "#### Q13. A coffee shop owner wants to estimate the average daily revenue for their shop. They take a random sample of 50 days and find the sample mean revenue to be '$500' \n",
    "with  a  standard  deviation  of $50. Estimate the population mean revenue with a 95% confidence interval."
   ]
  },
  {
   "cell_type": "markdown",
   "id": "3e8a3c41",
   "metadata": {},
   "source": [
    "To estimate the population mean revenue with a 95% confidence interval, we can use the following formula:\n",
    "\n",
    "CI = x̄ ± tα/2 * (s / √n)\n",
    "\n",
    "Where:\n",
    "\n",
    "x̄ is the sample mean revenue (500)\n",
    "tα/2 is the critical t-value for a 95% confidence interval with 49 degrees of freedom (n-1)\n",
    "s is the sample standard deviation\n",
    "n is the sample size (50)\n",
    "First, we need to calculate the sample standard deviation. Since the population standard deviation is unknown, we use the sample standard deviation as an estimate. Let's assume that the sample standard deviation is '50'.\n",
    "\n",
    "Next, we need to find the critical t-value for a 95% confidence interval with 49 degrees of freedom. We can find this value using a t-distribution table or a statistical software. For a two-tailed test with 49 degrees of freedom and a 95% confidence level, the critical t-value is approximately 2.009.\n",
    "\n",
    "Now we can plug in the values into the formula and calculate the confidence interval:\n",
    "\n",
    "CI = 500 ± 2.009 * (50 / √50)\n",
    "CI = 500 ± 14.18\n",
    "\n",
    "Therefore, we can estimate with 95% confidence that the population mean revenue for the coffee shop is between $485.82 ($500 - $14.18) and $514.18 ($500 + $14.18) per day.\n",
    "\n",
    "\n",
    "\n"
   ]
  },
  {
   "cell_type": "markdown",
   "id": "069e4c71",
   "metadata": {},
   "source": [
    "#### Q14. A researcher hypothesizes that a new drug will decrease blood pressure by 10 mmHg. They conduct a clinical trial with 100 patients and find that the sample mean decrease in blood pressure is 8 mmHg with a standard deviation of 3 mmHg. Test the hypothesis with a significance level of 0.05"
   ]
  },
  {
   "cell_type": "markdown",
   "id": "7cdcab28",
   "metadata": {},
   "source": [
    "To test the hypothesis that the new drug will decrease blood pressure by 10 mmHg with a significance level of 0.05, we need to conduct a one-sample t-test using the following steps:\n",
    "\n",
    "State the null hypothesis (H0) and the alternative hypothesis (Ha):\n",
    "H0: The true mean decrease in blood pressure is equal to 10 mmHg (μ = 10).\n",
    "Ha: The true mean decrease in blood pressure is less than 10 mmHg (μ < 10).\n",
    "Determine the level of significance (α) = 0.05.\n",
    "\n",
    "Calculate the test statistic:\n",
    "t = (x̄ - μ) / (s / √n)\n",
    "Where:\n",
    "\n",
    "x̄ is the sample mean decrease in blood pressure (8 mmHg)\n",
    "μ is the hypothesized population mean decrease in blood pressure (10 mmHg)\n",
    "s is the sample standard deviation (3 mmHg)\n",
    "n is the sample size (100)\n",
    "t = (8 - 10) / (3 / √100)\n",
    "t = -4.47\n",
    "\n",
    "Calculate the p-value associated with the test statistic:\n",
    "The degrees of freedom (df) for this test are (n - 1) = 99. Using a t-distribution table or a statistical software, we can find that the p-value for a t-value of -4.47 and 99 degrees of freedom is approximately 0.00002.\n",
    "\n",
    "Compare the p-value to the level of significance:\n",
    "The p-value (0.00002) is less than the level of significance (0.05), which means that the result is statistically significant. We can reject the null hypothesis and conclude that the new drug decreases blood pressure by more than 10 mmHg.\n",
    "\n",
    "Therefore, we can conclude that the new drug is effective in reducing blood pressure with a significance level of 0.05.\n",
    "\n",
    "\n",
    "\n"
   ]
  },
  {
   "cell_type": "markdown",
   "id": "42dbf21d",
   "metadata": {},
   "source": [
    "#### Q15. An electronics company produces a certain type of product with a mean weight of 5 pounds and a standard deviation of 0.5 pounds. A random sample of 25 products is taken, and the sample mean weight is found to be 4.8 pounds. Test the hypothesis that the true mean weight of the products is less than 5 pounds with a significance level of 0.01."
   ]
  },
  {
   "cell_type": "markdown",
   "id": "b297144b",
   "metadata": {},
   "source": [
    "To test the hypothesis that the true mean weight of the products is less than 5 pounds with a significance level of 0.01, we can conduct a one-sample t-test using the following steps:\n",
    "\n",
    "State the null hypothesis (H0) and the alternative hypothesis (Ha):\n",
    "H0: The true mean weight of the products is equal to 5 pounds (μ = 5).\n",
    "Ha: The true mean weight of the products is less than 5 pounds (μ < 5).\n",
    "Determine the level of significance (α) = 0.01.\n",
    "\n",
    "Calculate the test statistic:\n",
    "t = (x̄ - μ) / (s / √n)\n",
    "Where:\n",
    "\n",
    "x̄ is the sample mean weight (4.8 pounds)\n",
    "μ is the hypothesized population mean weight (5 pounds)\n",
    "s is the sample standard deviation (0.5 pounds)\n",
    "n is the sample size (25)\n",
    "t = (4.8 - 5) / (0.5 / √25)\n",
    "t = -2\n",
    "\n",
    "Calculate the p-value associated with the test statistic:\n",
    "The degrees of freedom (df) for this test are (n - 1) = 24. Using a t-distribution table or a statistical software, we can find that the p-value for a t-value of -2 and 24 degrees of freedom is approximately 0.0296.\n",
    "\n",
    "Compare the p-value to the level of significance:\n",
    "The p-value (0.0296) is less than the level of significance (0.01), which means that the result is statistically significant. We can reject the null hypothesis and conclude that the true mean weight of the products is less than 5 pounds.\n",
    "\n",
    "Therefore, we can conclude that there is evidence to support the hypothesis that the true mean weight of the products is less than 5 pounds with a significance level of 0.01.\n",
    "\n",
    "\n",
    "\n"
   ]
  },
  {
   "cell_type": "markdown",
   "id": "0b52941c",
   "metadata": {},
   "source": [
    "#### Q16. Two groups of students are given different study materials to prepare for a test. The first group (n1 = 30) has a mean score of 80 with a standard deviation of 10, and the second group (n2 = 40) has a mean score of 75 with a standard deviation of 8. Test the hypothesis that the population means for the two groups are equal with a significance level of 0.01."
   ]
  },
  {
   "cell_type": "markdown",
   "id": "ba0272f5",
   "metadata": {},
   "source": [
    "To test the hypothesis that the population means for the two groups are equal with a significance level of 0.01, we can conduct a two-sample t-test using the following steps:\n",
    "\n",
    "State the null hypothesis (H0) and the alternative hypothesis (Ha):\n",
    "H0: The population means for the two groups are equal (μ1 = μ2).\n",
    "Ha: The population means for the two groups are not equal (μ1 ≠ μ2).\n",
    "Determine the level of significance (α) = 0.01.\n",
    "\n",
    "Calculate the test statistic:\n",
    "t = (x̄1 - x̄2) / √(s1^2/n1 + s2^2/n2)\n",
    "Where:\n",
    "\n",
    "x̄1 and x̄2 are the sample means for the first and second groups (80 and 75)\n",
    "s1 and s2 are the sample standard deviations for the first and second groups (10 and 8)\n",
    "n1 and n2 are the sample sizes for the first and second groups (30 and 40)\n",
    "t = (80 - 75) / √(10^2/30 + 8^2/40)\n",
    "t = 2.39\n",
    "\n",
    "Calculate the degrees of freedom (df):\n",
    "df = (s1^2/n1 + s2^2/n2)^2 / [(s1^2/n1)^2 / (n1 - 1) + (s2^2/n2)^2 / (n2 - 1)]\n",
    "df = (10^2/30 + 8^2/40)^2 / [(10^2/30)^2 / 29 + (8^2/40)^2 / 39]\n",
    "df = 63.13 (rounded down to 63)\n",
    "\n",
    "Calculate the p-value associated with the test statistic:\n",
    "Using a t-distribution table or a statistical software, we can find that the two-tailed p-value for a t-value of 2.39 and 63 degrees of freedom is approximately 0.0203.\n",
    "\n",
    "Compare the p-value to the level of significance:\n",
    "The p-value (0.0203) is less than the level of significance (0.01), which means that the result is statistically significant. We can reject the null hypothesis and conclude that the population means for the two groups are not equal.\n",
    "\n",
    "Therefore, we can conclude that there is evidence to support the hypothesis that the population means for the two groups are not equal with a significance level of 0.01.\n",
    "\n",
    "\n",
    "\n"
   ]
  },
  {
   "cell_type": "markdown",
   "id": "7e483db7",
   "metadata": {},
   "source": [
    "#### Q17. A marketing company wants to estimate the average number of ads watched by viewers during a TV program. They take a random sample of 50 viewers and find that the sample mean is 4 with a standard deviation of 1.5. Estimate the population mean with a 99% confidence interval."
   ]
  },
  {
   "cell_type": "markdown",
   "id": "66d2cdb8",
   "metadata": {},
   "source": [
    "We can use the formula for a confidence interval for the population mean:\n",
    "\n",
    "$CI = \\bar{x} \\pm z_{\\alpha/2} \\frac{s}{\\sqrt{n}}$\n",
    "\n",
    "where:\n",
    "\n",
    "$\\bar{x}$ is the sample mean\n",
    "$s$ is the sample standard deviation\n",
    "$n$ is the sample size\n",
    "$z_{\\alpha/2}$ is the z-score corresponding to the desired confidence level and can be found using a standard normal distribution table or calculator.\n",
    "For a 99% confidence interval, we have a significance level of 0.01/2 = 0.005 for each tail, so $z_{\\alpha/2} = 2.576$.\n",
    "\n",
    "Substituting the given values, we have:\n",
    "\n",
    "$CI = 4 \\pm 2.576 \\frac{1.5}{\\sqrt{50}}$\n",
    "\n",
    "Simplifying:\n",
    "\n",
    "$CI = 4 \\pm 0.549$\n",
    "\n",
    "Therefore, the 99% confidence interval for the population mean number of ads watched by viewers during a TV program is:\n",
    "\n",
    "$CI = (3.451, 4.549)$\n",
    "\n",
    "\n",
    "\n"
   ]
  },
  {
   "cell_type": "code",
   "execution_count": null,
   "id": "05cf1bbb",
   "metadata": {},
   "outputs": [],
   "source": []
  }
 ],
 "metadata": {
  "kernelspec": {
   "display_name": "Python 3 (ipykernel)",
   "language": "python",
   "name": "python3"
  },
  "language_info": {
   "codemirror_mode": {
    "name": "ipython",
    "version": 3
   },
   "file_extension": ".py",
   "mimetype": "text/x-python",
   "name": "python",
   "nbconvert_exporter": "python",
   "pygments_lexer": "ipython3",
   "version": "3.9.13"
  }
 },
 "nbformat": 4,
 "nbformat_minor": 5
}
