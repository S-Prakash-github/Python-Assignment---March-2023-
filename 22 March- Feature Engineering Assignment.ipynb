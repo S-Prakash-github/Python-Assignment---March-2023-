{
 "cells": [
  {
   "cell_type": "markdown",
   "id": "ba5c54f8",
   "metadata": {},
   "source": [
    "#### Q1. Pearson correlation coefficient is a measure of the linear relationship between two variables. Supposeyou have collected data on the amount of time students spend studying for an exam and their final examscores. Calculate the Pearson correlation coefficient between these two variables and interpret the result."
   ]
  },
  {
   "cell_type": "code",
   "execution_count": 2,
   "id": "8f26778f",
   "metadata": {
    "scrolled": true
   },
   "outputs": [
    {
     "data": {
      "text/html": [
       "<div>\n",
       "<style scoped>\n",
       "    .dataframe tbody tr th:only-of-type {\n",
       "        vertical-align: middle;\n",
       "    }\n",
       "\n",
       "    .dataframe tbody tr th {\n",
       "        vertical-align: top;\n",
       "    }\n",
       "\n",
       "    .dataframe thead th {\n",
       "        text-align: right;\n",
       "    }\n",
       "</style>\n",
       "<table border=\"1\" class=\"dataframe\">\n",
       "  <thead>\n",
       "    <tr style=\"text-align: right;\">\n",
       "      <th></th>\n",
       "      <th>Study_hour</th>\n",
       "      <th>Marks</th>\n",
       "    </tr>\n",
       "  </thead>\n",
       "  <tbody>\n",
       "    <tr>\n",
       "      <th>Study_hour</th>\n",
       "      <td>1.000000</td>\n",
       "      <td>0.687175</td>\n",
       "    </tr>\n",
       "    <tr>\n",
       "      <th>Marks</th>\n",
       "      <td>0.687175</td>\n",
       "      <td>1.000000</td>\n",
       "    </tr>\n",
       "  </tbody>\n",
       "</table>\n",
       "</div>"
      ],
      "text/plain": [
       "            Study_hour     Marks\n",
       "Study_hour    1.000000  0.687175\n",
       "Marks         0.687175  1.000000"
      ]
     },
     "execution_count": 2,
     "metadata": {},
     "output_type": "execute_result"
    }
   ],
   "source": [
    "import pandas as pd \n",
    "df = pd.DataFrame({\"Study_hour\": [4,8,2,5,6,4],\n",
    "                  \"Marks\" : [80,90,55,99,87,89]})\n",
    "df.corr(method = 'pearson')"
   ]
  },
  {
   "cell_type": "markdown",
   "id": "bb110755",
   "metadata": {},
   "source": [
    "From this correlation matrix we can see that there is a positive correlation between the study hours and marks obtained by student.So the students studying more will have higher marks."
   ]
  },
  {
   "cell_type": "markdown",
   "id": "b8c16bfc",
   "metadata": {},
   "source": [
    "#### Q2. Spearman's rank correlation is a measure of the monotonic relationship between two variables.Suppose you have collected data on the amount of sleep individuals get each night and their overall jobsatisfaction level on a scale of 1 to 10. Calculate the Spearman's rank correlation between these twovariables and interpret the result."
   ]
  },
  {
   "cell_type": "code",
   "execution_count": 3,
   "id": "546af8f5",
   "metadata": {},
   "outputs": [
    {
     "data": {
      "text/html": [
       "<div>\n",
       "<style scoped>\n",
       "    .dataframe tbody tr th:only-of-type {\n",
       "        vertical-align: middle;\n",
       "    }\n",
       "\n",
       "    .dataframe tbody tr th {\n",
       "        vertical-align: top;\n",
       "    }\n",
       "\n",
       "    .dataframe thead th {\n",
       "        text-align: right;\n",
       "    }\n",
       "</style>\n",
       "<table border=\"1\" class=\"dataframe\">\n",
       "  <thead>\n",
       "    <tr style=\"text-align: right;\">\n",
       "      <th></th>\n",
       "      <th>sleep</th>\n",
       "      <th>satisfaction</th>\n",
       "    </tr>\n",
       "  </thead>\n",
       "  <tbody>\n",
       "    <tr>\n",
       "      <th>sleep</th>\n",
       "      <td>1.000000</td>\n",
       "      <td>0.367647</td>\n",
       "    </tr>\n",
       "    <tr>\n",
       "      <th>satisfaction</th>\n",
       "      <td>0.367647</td>\n",
       "      <td>1.000000</td>\n",
       "    </tr>\n",
       "  </tbody>\n",
       "</table>\n",
       "</div>"
      ],
      "text/plain": [
       "                 sleep  satisfaction\n",
       "sleep         1.000000      0.367647\n",
       "satisfaction  0.367647      1.000000"
      ]
     },
     "execution_count": 3,
     "metadata": {},
     "output_type": "execute_result"
    }
   ],
   "source": [
    "## creating a dataset with sleep and satisfaction \n",
    "df = pd.DataFrame({\"sleep\": [4,8,6,8,10,7],\n",
    "                  \"satisfaction\" : [5,9,7,8,6,8]})\n",
    "## we can see a positive correlation between the two variables\n",
    "df.corr(method = 'spearman')"
   ]
  },
  {
   "cell_type": "markdown",
   "id": "63d2e0fd",
   "metadata": {},
   "source": [
    "From this matrix we can see that there is a positive correlation between the sleep hours and statifaction of the individuals. Those person who are able to take adequate amount of sleep they are more satisfied with there job."
   ]
  },
  {
   "cell_type": "markdown",
   "id": "7a90e60b",
   "metadata": {},
   "source": [
    "#### Q3. Suppose you are conducting a study to examine the relationship between the number of hours ofexercise per week and body mass index (BMI) in a sample of adults. You collected data on both variablesfor 50 participants. Calculate the Pearson correlation coefficient and the Spearman's rank correlationbetween these two variables and compare the results."
   ]
  },
  {
   "cell_type": "code",
   "execution_count": 27,
   "id": "3804a5c2",
   "metadata": {
    "scrolled": true
   },
   "outputs": [],
   "source": [
    "import pandas as pd\n",
    "import numpy as np\n",
    "import random\n",
    "\n",
    "data_points = []\n",
    "random.seed(142)\n",
    "for i in range(50):\n",
    "    exercise_hours = round(random.uniform(1.0, 4.5), 1)\n",
    "    bmi = round(random.uniform(21.0, 30.0), 1)\n",
    "    data_points.append((exercise_hours, bmi))\n",
    "\n",
    "df = pd.DataFrame(data_points, columns=['Exercise Hours', 'BMI'])"
   ]
  },
  {
   "cell_type": "code",
   "execution_count": 17,
   "id": "39e1cfe1",
   "metadata": {},
   "outputs": [
    {
     "data": {
      "text/html": [
       "<div>\n",
       "<style scoped>\n",
       "    .dataframe tbody tr th:only-of-type {\n",
       "        vertical-align: middle;\n",
       "    }\n",
       "\n",
       "    .dataframe tbody tr th {\n",
       "        vertical-align: top;\n",
       "    }\n",
       "\n",
       "    .dataframe thead th {\n",
       "        text-align: right;\n",
       "    }\n",
       "</style>\n",
       "<table border=\"1\" class=\"dataframe\">\n",
       "  <thead>\n",
       "    <tr style=\"text-align: right;\">\n",
       "      <th></th>\n",
       "      <th>Exercise Hours</th>\n",
       "      <th>BMI</th>\n",
       "    </tr>\n",
       "  </thead>\n",
       "  <tbody>\n",
       "    <tr>\n",
       "      <th>0</th>\n",
       "      <td>1.4</td>\n",
       "      <td>23.1</td>\n",
       "    </tr>\n",
       "    <tr>\n",
       "      <th>1</th>\n",
       "      <td>4.1</td>\n",
       "      <td>21.3</td>\n",
       "    </tr>\n",
       "    <tr>\n",
       "      <th>2</th>\n",
       "      <td>4.1</td>\n",
       "      <td>21.8</td>\n",
       "    </tr>\n",
       "    <tr>\n",
       "      <th>3</th>\n",
       "      <td>2.3</td>\n",
       "      <td>25.3</td>\n",
       "    </tr>\n",
       "    <tr>\n",
       "      <th>4</th>\n",
       "      <td>3.5</td>\n",
       "      <td>26.0</td>\n",
       "    </tr>\n",
       "  </tbody>\n",
       "</table>\n",
       "</div>"
      ],
      "text/plain": [
       "   Exercise Hours   BMI\n",
       "0             1.4  23.1\n",
       "1             4.1  21.3\n",
       "2             4.1  21.8\n",
       "3             2.3  25.3\n",
       "4             3.5  26.0"
      ]
     },
     "execution_count": 17,
     "metadata": {},
     "output_type": "execute_result"
    }
   ],
   "source": []
  },
  {
   "cell_type": "code",
   "execution_count": 18,
   "id": "ea54ea2f",
   "metadata": {
    "scrolled": true
   },
   "outputs": [
    {
     "name": "stdout",
     "output_type": "stream",
     "text": [
      "SPEARMAN CORRELATION\n",
      "                 Exercise Hours       BMI\n",
      "Exercise Hours        1.000000 -0.255407\n",
      "BMI                  -0.255407  1.000000\n",
      "PEARSON CORRELATION\n",
      "                 Exercise Hours      BMI\n",
      "Exercise Hours         1.00000 -0.26123\n",
      "BMI                   -0.26123  1.00000\n"
     ]
    }
   ],
   "source": [
    "print('SPEARMAN CORRELATION\\n',df.corr(method = 'spearman'))\n",
    "print('PEARSON CORRELATION\\n',df.corr())"
   ]
  },
  {
   "cell_type": "markdown",
   "id": "be3978bf",
   "metadata": {},
   "source": [
    "From this we can see that there is an negative correlation between the excercise hours and BMI index, which means that when there is increase in the excercise hours there is a decrease in BMI value . So the person exercising more will be healthier."
   ]
  },
  {
   "cell_type": "markdown",
   "id": "23cf1eb6",
   "metadata": {},
   "source": [
    "#### Q4. A researcher is interested in examining the relationship between the number of hours individualsspend watching television per day and their level of physical activity. The researcher collected data onboth variables from a sample of 50 participants. Calculate the Pearson correlation coefficient betweenthese two variables."
   ]
  },
  {
   "cell_type": "code",
   "execution_count": 40,
   "id": "592e05a3",
   "metadata": {
    "scrolled": true
   },
   "outputs": [
    {
     "name": "stdout",
     "output_type": "stream",
     "text": [
      "                   watching_tv  physical_activity\n",
      "watching_tv            1.00000           -0.10286\n",
      "physical_activity     -0.10286            1.00000\n",
      "                   watching_tv  physical_activity\n",
      "watching_tv           1.000000          -0.104634\n",
      "physical_activity    -0.104634           1.000000\n"
     ]
    }
   ],
   "source": [
    "data = []\n",
    "for i in range(50):\n",
    "    watching_tv = random.uniform(1.0, 8.0)\n",
    "\n",
    "    physical_activity = random.uniform(1, 5)\n",
    "    data.append((watching_tv, physical_activity))\n",
    "df = pd.DataFrame(data, columns = ['watching_tv', 'physical_activity'] )\n",
    "print(df.corr())\n",
    "print(df.corr(method = 'spearman'))"
   ]
  },
  {
   "cell_type": "markdown",
   "id": "27b70120",
   "metadata": {},
   "source": [
    "From the pearson and spearman correlation matrix we can conclude that there is a negativwe correlation between the watching hours and physical activity.So the having higher watching hours will have less physical activity."
   ]
  },
  {
   "cell_type": "markdown",
   "id": "fcede710",
   "metadata": {},
   "source": [
    "#### Q5. A survey was conducted to examine the relationship between age and preference for a particularbrand of soft drink. The survey results are shown below:\n",
    "25 Coke\n",
    "42 Pepsi\n",
    "37\n",
    "19\n",
    "31\n",
    "28\n",
    "Mountain dew\n",
    "Coke\n",
    "Pepsi\n",
    "Coke"
   ]
  },
  {
   "cell_type": "code",
   "execution_count": 72,
   "id": "ee14b5b3",
   "metadata": {
    "scrolled": true
   },
   "outputs": [
    {
     "name": "stdout",
     "output_type": "stream",
     "text": [
      "The chi-square statistic is: 0.0\n",
      "The p-value is: 1.0\n"
     ]
    }
   ],
   "source": [
    "import pandas as pd\n",
    "from scipy.stats import chi2_contingency\n",
    "\n",
    "# Create a contingency table using the survey results\n",
    "survey_results = [(\"Coke\", 25), (\"Pepsi\", 42), (\"Mountain Dew\", 37), (\"Other\", 19)]\n",
    "age_ranges = [\"18-24\", \"25-34\", \"35-44\", \"45+\"]\n",
    "contingency_table = pd.DataFrame(columns=[\"Drink\", \"18-24\", \"25-34\", \"35-44\", \"45+\"])\n",
    "for i, (drink, count) in enumerate(survey_results):\n",
    "    contingency_table.loc[i] = [drink] + [count] * 4\n",
    "contingency_table = contingency_table.set_index(\"Drink\")\n",
    "contingency_table.loc[\"Total\"] = contingency_table.sum()\n",
    "\n",
    "# Perform a chi-square test of independence on the contingency table\n",
    "chi2, p_value, dof, expected = chi2_contingency(contingency_table)\n",
    "\n",
    "print(\"The chi-square statistic is:\", chi2)\n",
    "print(\"The p-value is:\", p_value)\n"
   ]
  },
  {
   "cell_type": "markdown",
   "id": "f32e083a",
   "metadata": {},
   "source": [
    "This will output the chi-square statistic and p-value for the chi-square test of independence. The null hypothesis for this test is that there is no association between age and preference for a particular brand of soft drink, and the alternative hypothesis is that there is an association. If the p-value is less than the chosen significance level (e.g., 0.05), we can reject the null hypothesis and conclude that there is evidence of an association between age and soft drink preference."
   ]
  },
  {
   "cell_type": "markdown",
   "id": "4323d08a",
   "metadata": {},
   "source": [
    "#### Q6. A company is interested in examining the relationship between the number of sales calls made per dayand the number of sales made per week. The company collected data on both variables from a sample of30 sales representatives. Calculate the Pearson correlation coefficient between these two variables."
   ]
  },
  {
   "cell_type": "code",
   "execution_count": 87,
   "id": "f0888719",
   "metadata": {
    "scrolled": true
   },
   "outputs": [
    {
     "name": "stdout",
     "output_type": "stream",
     "text": [
      "   Sales Calls  Sales Made\n",
      "0           42          18\n",
      "1           22           7\n",
      "2           22           9\n",
      "3           33          16\n",
      "4           48          12\n"
     ]
    },
    {
     "data": {
      "text/html": [
       "<div>\n",
       "<style scoped>\n",
       "    .dataframe tbody tr th:only-of-type {\n",
       "        vertical-align: middle;\n",
       "    }\n",
       "\n",
       "    .dataframe tbody tr th {\n",
       "        vertical-align: top;\n",
       "    }\n",
       "\n",
       "    .dataframe thead th {\n",
       "        text-align: right;\n",
       "    }\n",
       "</style>\n",
       "<table border=\"1\" class=\"dataframe\">\n",
       "  <thead>\n",
       "    <tr style=\"text-align: right;\">\n",
       "      <th></th>\n",
       "      <th>Sales Calls</th>\n",
       "      <th>Sales Made</th>\n",
       "    </tr>\n",
       "  </thead>\n",
       "  <tbody>\n",
       "    <tr>\n",
       "      <th>Sales Calls</th>\n",
       "      <td>1.00000</td>\n",
       "      <td>0.31458</td>\n",
       "    </tr>\n",
       "    <tr>\n",
       "      <th>Sales Made</th>\n",
       "      <td>0.31458</td>\n",
       "      <td>1.00000</td>\n",
       "    </tr>\n",
       "  </tbody>\n",
       "</table>\n",
       "</div>"
      ],
      "text/plain": [
       "             Sales Calls  Sales Made\n",
       "Sales Calls      1.00000     0.31458\n",
       "Sales Made       0.31458     1.00000"
      ]
     },
     "execution_count": 87,
     "metadata": {},
     "output_type": "execute_result"
    }
   ],
   "source": [
    "\n",
    "import random\n",
    "\n",
    "# Create a dictionary with the data\n",
    "sales_data = {\"Sales Calls\": [random.randint(20, 50) for _ in range(30)],\n",
    "              \"Sales Made\": [random.randint(5, 20) for _  in range(30)]}\n",
    "\n",
    "# Create a DataFrame from the dictionary\n",
    "df = pd.DataFrame(sales_data)\n",
    "\n",
    "# Print the first few rows of the DataFrame\n",
    "print(df.head())\n",
    "df.corr()"
   ]
  },
  {
   "cell_type": "markdown",
   "id": "3bd7f24f",
   "metadata": {},
   "source": [
    "From this we can conclude that there is a positive correlation between sales calls,sales made. \n",
    "So higher the sales calls the higher would be the sales.\n"
   ]
  },
  {
   "cell_type": "code",
   "execution_count": null,
   "id": "24e9a0a9",
   "metadata": {},
   "outputs": [],
   "source": []
  },
  {
   "cell_type": "code",
   "execution_count": null,
   "id": "7efaf450",
   "metadata": {},
   "outputs": [],
   "source": []
  },
  {
   "cell_type": "code",
   "execution_count": null,
   "id": "830f8d95",
   "metadata": {},
   "outputs": [],
   "source": []
  },
  {
   "cell_type": "code",
   "execution_count": null,
   "id": "701332df",
   "metadata": {},
   "outputs": [],
   "source": []
  },
  {
   "cell_type": "code",
   "execution_count": null,
   "id": "12355e54",
   "metadata": {},
   "outputs": [],
   "source": []
  },
  {
   "cell_type": "code",
   "execution_count": null,
   "id": "ab071894",
   "metadata": {},
   "outputs": [],
   "source": []
  },
  {
   "cell_type": "code",
   "execution_count": null,
   "id": "4e7de38f",
   "metadata": {},
   "outputs": [],
   "source": []
  }
 ],
 "metadata": {
  "kernelspec": {
   "display_name": "Python 3 (ipykernel)",
   "language": "python",
   "name": "python3"
  },
  "language_info": {
   "codemirror_mode": {
    "name": "ipython",
    "version": 3
   },
   "file_extension": ".py",
   "mimetype": "text/x-python",
   "name": "python",
   "nbconvert_exporter": "python",
   "pygments_lexer": "ipython3",
   "version": "3.9.13"
  }
 },
 "nbformat": 4,
 "nbformat_minor": 5
}
