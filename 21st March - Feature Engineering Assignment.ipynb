{
 "cells": [
  {
   "cell_type": "markdown",
   "id": "2e901c05",
   "metadata": {},
   "source": [
    "#### Q1. What is the difference between Ordinal Encoding and Label Encoding? Provide an example of when you might choose one over the other."
   ]
  },
  {
   "cell_type": "markdown",
   "id": "1f9755df",
   "metadata": {},
   "source": [
    "Ordinal Encoding and Label Encoding are both techniques used for encoding categorical variables. The main difference between the two is that Ordinal Encoding assigns each unique category a numerical value based on their order, whereas Label Encoding assigns a unique numerical value to each category without considering their order.\n",
    "\n",
    "For example, suppose you have a categorical variable \"color\" with three unique categories: red, blue, and green. In Ordinal Encoding, you would assign numerical values based on their order, such as red=1, blue=2, and green=3. In Label Encoding, you would assign unique numerical values to each category, such as red=1, blue=2, and green=3, without considering their order.\n",
    "\n",
    "In terms of when to choose one over the other, it depends on the nature of the categorical variable and the requirements of the machine learning algorithm. If the categorical variable has an inherent order or hierarchy, such as \"low,\" \"medium,\" and \"high,\" then Ordinal Encoding would be more appropriate. On the other hand, if the categorical variable does not have an inherent order, such as colors or names, then Label Encoding would be more appropriate.\n",
    "\n",
    "For example, in a dataset that includes education levels (elementary, high school, bachelor's, master's, PhD), Ordinal Encoding would make sense because there is an inherent order to the education levels. However, if the dataset includes names of countries, Label Encoding would make more sense because there is no inherent order to the countries."
   ]
  },
  {
   "cell_type": "markdown",
   "id": "bc9c1387",
   "metadata": {},
   "source": [
    "#### Q2. Explain how Target Guided Ordinal Encoding works and provide an example of when you might use it in a machine learning project."
   ]
  },
  {
   "cell_type": "markdown",
   "id": "e35f5da3",
   "metadata": {},
   "source": [
    "Target Guided Ordinal Encoding is a technique used to encode categorical variables in a way that considers their relationship with the target variable. The main idea behind this technique is to replace the categories of a categorical variable with ordinal numbers based on the target variable's mean or median value for each category.\n",
    "\n",
    "The process of Target Guided Ordinal Encoding involves the following steps:\n",
    "\n",
    "- Group the categories of the categorical variable based on their frequency or any other relevant criteria.\n",
    "- For each category, calculate the mean or median value of the target variable (dependent variable) for that category.\n",
    "- Assign ordinal values to each category based on their mean or median value in ascending or descending order.\n",
    "- Replace the categorical variable with the assigned ordinal values.\n",
    "For example, suppose we have a categorical variable \"city\" with five categories: New York, Boston, Chicago, Los Angeles, and Houston. We also have a target variable \"price\" that we want to predict using a machine learning algorithm. We can use Target Guided Ordinal Encoding to encode the \"city\" variable based on the mean price for each city category.\n",
    "\n",
    "Here's how we could encode the \"city\" variable using Target Guided Ordinal Encoding:\n",
    "\n",
    "Group the \"city\" categories based on their mean price: Los Angeles > New York > Chicago > Boston > Houston.\n",
    "Assign ordinal values based on the order of their mean price: Los Angeles=5, New York=4, Chicago=3, Boston=2, and Houston=1.\n",
    "Replace the \"city\" variable with the assigned ordinal values.\n",
    "\n",
    ">We can use Target Guided Ordinal Encoding in a machine learning project where we have a categorical variable that is strongly related to the target variable. This technique can be particularly useful when we have many categories in a categorical variable, and one-hot encoding is not practical due to the high dimensionality of the resulting dataset. Moreover, this technique can improve the predictive power of the machine learning model by capturing the relationship between the categorical variable and the target variable."
   ]
  },
  {
   "cell_type": "markdown",
   "id": "a4780b37",
   "metadata": {},
   "source": [
    "#### Q3. Define covariance and explain why it is important in statistical analysis. How is covariance calculated?"
   ]
  },
  {
   "cell_type": "markdown",
   "id": "7325e694",
   "metadata": {},
   "source": [
    "Covariance is a statistical measure that quantifies the relationship between two variables. Specifically, covariance measures how much two variables change together. When the two variables have a positive covariance, it means that they tend to increase or decrease together. In contrast, when the two variables have a negative covariance, it means that when one variable increases, the other tends to decrease.\n",
    "\n",
    "Covariance is important in statistical analysis because it helps to determine the strength and direction of the relationship between two variables. For example, if we are interested in understanding the relationship between education and income, we can calculate the covariance between the two variables to see if they are positively or negatively correlated. If the covariance is positive, it suggests that as education increases, so does income. On the other hand, if the covariance is negative, it suggests that as education increases, income decreases.\n",
    "\n",
    "Covariance is calculated using the following formula:\n",
    "\n",
    ">Cov(X,Y) = Σ(Xi - μX)(Yi - μY) / (n - 1)\n",
    "\n",
    "where:\n",
    "\n",
    "- X and Y are the two variables\n",
    "- Xi and Yi are the values of the variables for each observation\n",
    "- μX and μY are the means of the variables\n",
    "- n is the number of observations\n",
    "- The formula calculates the sum of the products of the deviation of each observation from its respective mean. The result is divided by n-1, which is known as the degrees of freedom, to obtain the sample covariance.\n",
    "\n",
    "It is important to note that covariance is not standardized, and therefore, the values cannot be compared directly. For this reason, covariance is often used in combination with other statistical measures, such as correlation, which is a standardized version of covariance. We can use numpy and pandas to find the cov in python."
   ]
  },
  {
   "cell_type": "markdown",
   "id": "7a60effa",
   "metadata": {},
   "source": [
    "#### Q4. For a dataset with the following categorical variables: Color (red, green, blue), Size (small, medium, large), and Material (wood, metal, plastic), perform label encoding using Python's scikit-learn library. Show your code and explain the output"
   ]
  },
  {
   "cell_type": "code",
   "execution_count": 34,
   "id": "714e0e7b",
   "metadata": {
    "scrolled": false
   },
   "outputs": [
    {
     "data": {
      "text/html": [
       "<div>\n",
       "<style scoped>\n",
       "    .dataframe tbody tr th:only-of-type {\n",
       "        vertical-align: middle;\n",
       "    }\n",
       "\n",
       "    .dataframe tbody tr th {\n",
       "        vertical-align: top;\n",
       "    }\n",
       "\n",
       "    .dataframe thead th {\n",
       "        text-align: right;\n",
       "    }\n",
       "</style>\n",
       "<table border=\"1\" class=\"dataframe\">\n",
       "  <thead>\n",
       "    <tr style=\"text-align: right;\">\n",
       "      <th></th>\n",
       "      <th>color</th>\n",
       "      <th>size</th>\n",
       "      <th>material</th>\n",
       "    </tr>\n",
       "  </thead>\n",
       "  <tbody>\n",
       "    <tr>\n",
       "      <th>0</th>\n",
       "      <td>red</td>\n",
       "      <td>small</td>\n",
       "      <td>wood</td>\n",
       "    </tr>\n",
       "    <tr>\n",
       "      <th>1</th>\n",
       "      <td>green</td>\n",
       "      <td>medium</td>\n",
       "      <td>metal</td>\n",
       "    </tr>\n",
       "    <tr>\n",
       "      <th>2</th>\n",
       "      <td>blue</td>\n",
       "      <td>large</td>\n",
       "      <td>plastic</td>\n",
       "    </tr>\n",
       "  </tbody>\n",
       "</table>\n",
       "</div>"
      ],
      "text/plain": [
       "   color    size material\n",
       "0    red   small     wood\n",
       "1  green  medium    metal\n",
       "2   blue   large  plastic"
      ]
     },
     "execution_count": 34,
     "metadata": {},
     "output_type": "execute_result"
    }
   ],
   "source": [
    "color = ['red','green','blue']\n",
    "size = ['small','medium','large']\n",
    "material = ['wood','metal','plastic']\n",
    "import pandas as pd\n",
    "from sklearn.preprocessing import LabelEncoder\n",
    "df = pd.DataFrame({\"color\": color,\n",
    "                  \"size\" : size,\n",
    "                  \"material\":material})\n",
    "df"
   ]
  },
  {
   "cell_type": "code",
   "execution_count": 35,
   "id": "3f2619ce",
   "metadata": {},
   "outputs": [],
   "source": [
    "labelencoder = LabelEncoder()"
   ]
  },
  {
   "cell_type": "code",
   "execution_count": 41,
   "id": "460b1474",
   "metadata": {
    "scrolled": true
   },
   "outputs": [],
   "source": [
    "import warnings\n",
    "warnings.filterwarnings(\"ignore\")## removing the warnings \n",
    "## encoding the color column\n",
    "df['color_encoded'] = labelencoder.fit_transform(df[['color']])\n",
    "## encoding the size column\n",
    "df['size_encoded'] = labelencoder.fit_transform(df[['size']])\n",
    "## encoding the material column\n",
    "df['material_encoded'] = labelencoder.fit_transform(df[['material']])"
   ]
  },
  {
   "cell_type": "code",
   "execution_count": 40,
   "id": "2f84c4b1",
   "metadata": {},
   "outputs": [
    {
     "data": {
      "text/html": [
       "<div>\n",
       "<style scoped>\n",
       "    .dataframe tbody tr th:only-of-type {\n",
       "        vertical-align: middle;\n",
       "    }\n",
       "\n",
       "    .dataframe tbody tr th {\n",
       "        vertical-align: top;\n",
       "    }\n",
       "\n",
       "    .dataframe thead th {\n",
       "        text-align: right;\n",
       "    }\n",
       "</style>\n",
       "<table border=\"1\" class=\"dataframe\">\n",
       "  <thead>\n",
       "    <tr style=\"text-align: right;\">\n",
       "      <th></th>\n",
       "      <th>color</th>\n",
       "      <th>size</th>\n",
       "      <th>material</th>\n",
       "      <th>color_encoded</th>\n",
       "      <th>size_encoded</th>\n",
       "      <th>material_encoded</th>\n",
       "    </tr>\n",
       "  </thead>\n",
       "  <tbody>\n",
       "    <tr>\n",
       "      <th>0</th>\n",
       "      <td>red</td>\n",
       "      <td>small</td>\n",
       "      <td>wood</td>\n",
       "      <td>2</td>\n",
       "      <td>2</td>\n",
       "      <td>2</td>\n",
       "    </tr>\n",
       "    <tr>\n",
       "      <th>1</th>\n",
       "      <td>green</td>\n",
       "      <td>medium</td>\n",
       "      <td>metal</td>\n",
       "      <td>1</td>\n",
       "      <td>1</td>\n",
       "      <td>0</td>\n",
       "    </tr>\n",
       "    <tr>\n",
       "      <th>2</th>\n",
       "      <td>blue</td>\n",
       "      <td>large</td>\n",
       "      <td>plastic</td>\n",
       "      <td>0</td>\n",
       "      <td>0</td>\n",
       "      <td>1</td>\n",
       "    </tr>\n",
       "  </tbody>\n",
       "</table>\n",
       "</div>"
      ],
      "text/plain": [
       "   color    size material  color_encoded  size_encoded  material_encoded\n",
       "0    red   small     wood              2             2                 2\n",
       "1  green  medium    metal              1             1                 0\n",
       "2   blue   large  plastic              0             0                 1"
      ]
     },
     "execution_count": 40,
     "metadata": {},
     "output_type": "execute_result"
    }
   ],
   "source": [
    "## final_encoded dataset\n",
    "df"
   ]
  },
  {
   "cell_type": "markdown",
   "id": "d8ea3932",
   "metadata": {},
   "source": [
    "In the above code I have created dataframe with the help of pandas library having three columns color, size, material. I have impelmented label encoding on the columns.\n",
    "Color column has assigned red = 2 , green = 1 , blue =0 values.\n",
    "Size column has assigned with small = 2 , medium = 1, large = 0.\n",
    "material column has assigned with wood = 2, metal = 0, plastic = 0."
   ]
  },
  {
   "cell_type": "markdown",
   "id": "cc75919e",
   "metadata": {},
   "source": [
    "#### Q5. Calculate the covariance matrix for the following variables in a dataset: Age, Income, and Education level. Interpret the results."
   ]
  },
  {
   "cell_type": "code",
   "execution_count": 30,
   "id": "1698da62",
   "metadata": {},
   "outputs": [
    {
     "name": "stdout",
     "output_type": "stream",
     "text": [
      "                        Age       Income  eduction_encoded\n",
      "Age                  207.70     166450.0             21.75\n",
      "Income            166450.00  478700000.0          21500.00\n",
      "eduction_encoded      21.75      21500.0              2.50 \n",
      "\n",
      "                       Age    Income  eduction_encoded\n",
      "Age               1.000000  0.527878          0.954489\n",
      "Income            0.527878  1.000000          0.621494\n",
      "eduction_encoded  0.954489  0.621494          1.000000\n"
     ]
    }
   ],
   "source": [
    "import pandas as pd\n",
    "df = pd.DataFrame({\n",
    "    \"Age\" : [18,29,36,55,23],\n",
    "    \"Income\" : [40000,35000,89000,68000,59000],\n",
    "    \"Education_level\" : [\"High_school\",\"MSC\",\"Mtech\",\"PHD\",\"Btech\"]\n",
    "})\n",
    "from sklearn.preprocessing import OrdinalEncoder\n",
    "encoder = OrdinalEncoder(categories =[['High_school',\"Btech\",\"MSC\",\"Mtech\",\"PHD\"]] )\n",
    "df['eduction_encoded'] = encoder.fit_transform(df[['Education_level']])\n",
    "print(df.cov(),\"\\n\")\n",
    "print(df.corr())"
   ]
  },
  {
   "cell_type": "markdown",
   "id": "06eeb74d",
   "metadata": {},
   "source": [
    "#### Q6. You are working on a machine learning project with a dataset containing several categorical variables, including \"Gender\" (Male/Female), \"Education Level\" (High School/Bachelor's/Master's/PhD), and \"Employment Status\" (Unemployed/Part-Time/Full-Time). Which encoding method would you use for each variable, and why?"
   ]
  },
  {
   "cell_type": "markdown",
   "id": "22e68adb",
   "metadata": {},
   "source": [
    "For the categorical variables \"Gender,\" \"Education Level,\" and \"Employment Status,\" there are several encoding methods that can be used to represent these variables as numerical values that can be processed by machine learning algorithms. The choice of encoding method depends on the specific characteristics of the dataset, the type of machine learning algorithm being used, and the goals of the project.\n",
    "\n",
    "Here are some encoding methods that can be used for each variable:\n",
    "\n",
    "Gender: For this binary categorical variable, we can use Label Encoding or Binary Encoding. Label Encoding assigns a unique integer value to each category (e.g., 0 for Male, 1 for Female), while Binary Encoding creates a new binary variable that represents each category (e.g., 0/1 for Male/Female).\n",
    "\n",
    "Education Level: For this ordinal categorical variable, we can use Ordinal Encoding, Target Encoding, or One-Hot Encoding. Ordinal Encoding assigns a numerical value to each category based on its order (e.g., 1 for High School, 2 for Bachelor's, 3 for Master's, 4 for PhD), Target Encoding replaces each category with the mean of the target variable for that category, and One-Hot Encoding creates a new binary variable for each category.\n",
    "\n",
    "Employment Status: For this nominal categorical variable, we can use One-Hot Encoding, Target Encoding, or Binary Encoding. One-Hot Encoding creates a new binary variable for each category (e.g., 1 for Full-Time, 0 for Part-Time/Unemployed), Target Encoding replaces each category with the mean of the target variable for that category, and Binary Encoding creates a new binary variable that represents each category (e.g., 00 for Unemployed, 01 for Part-Time, 10 for Full-Time)."
   ]
  },
  {
   "cell_type": "markdown",
   "id": "66bccf42",
   "metadata": {},
   "source": [
    "#### Q7. You are analyzing a dataset with two continuous variables, \"Temperature\" and \"Humidity\", and two categorical variables, \"Weather Condition\" (Sunny/Cloudy/Rainy) and \"Wind Direction\" (North/South/East/West). Calculate the covariance between each pair of variables and interpret the results"
   ]
  },
  {
   "cell_type": "code",
   "execution_count": 48,
   "id": "68faef11",
   "metadata": {},
   "outputs": [
    {
     "name": "stdout",
     "output_type": "stream",
     "text": [
      "Covariance between Temperature and Humidity: -30.0\n",
      "Covariance between Temperature and Weather Condition: 1.2\n",
      "Covariance between Temperature and Wind Direction: -0.7000000000000001\n",
      "Covariance between Humidity and Weather Condition: 5.0\n",
      "Covariance between Humidity and Wind Direction: 15.0\n"
     ]
    }
   ],
   "source": [
    "import pandas as pd\n",
    "\n",
    "# Create the DataFrame\n",
    "data = {'Temperature': [25, 30, 28, 22, 24],\n",
    "        'Humidity': [60, 40, 70, 80, 50],\n",
    "        'Weather Condition': ['Sunny', 'Cloudy', 'Rainy', 'Cloudy', 'Sunny'],\n",
    "        'Wind Direction': ['North', 'South', 'East', 'West', 'North']}\n",
    "df = pd.DataFrame(data)\n",
    "\n",
    "# Calculate the covariance between Temperature and Humidity\n",
    "cov_temp_humidity = df['Temperature'].cov(df['Humidity'])\n",
    "print(f\"Covariance between Temperature and Humidity: {cov_temp_humidity}\")\n",
    "\n",
    "# Convert categorical variables to numerical codes\n",
    "df['Weather Condition'] = pd.Categorical(df['Weather Condition'], categories=['Sunny', 'Cloudy', 'Rainy']).codes\n",
    "df['Wind Direction'] = pd.Categorical(df['Wind Direction'], categories=['North', 'South', 'East', 'West']).codes\n",
    "\n",
    "# Calculate the covariance between Temperature and Weather Condition\n",
    "cov_temp_weather = df['Temperature'].cov(df['Weather Condition'])\n",
    "print(f\"Covariance between Temperature and Weather Condition: {cov_temp_weather}\")\n",
    "\n",
    "# Calculate the covariance between Temperature and Wind Direction\n",
    "cov_temp_wind = df['Temperature'].cov(df['Wind Direction'])\n",
    "print(f\"Covariance between Temperature and Wind Direction: {cov_temp_wind}\")\n",
    "\n",
    "# Calculate the covariance between Humidity and Weather Condition\n",
    "cov_humidity_weather = df['Humidity'].cov(df['Weather Condition'])\n",
    "print(f\"Covariance between Humidity and Weather Condition: {cov_humidity_weather}\")\n",
    "\n",
    "# Calculate the covariance between Humidity and Wind Direction\n",
    "cov_humidity_wind = df['Humidity'].cov(df['Wind Direction'])\n",
    "print(f\"Covariance between Humidity and Wind Direction: {cov_humidity_wind}\")\n"
   ]
  },
  {
   "cell_type": "code",
   "execution_count": null,
   "id": "8b9c526a",
   "metadata": {},
   "outputs": [],
   "source": []
  }
 ],
 "metadata": {
  "kernelspec": {
   "display_name": "Python 3 (ipykernel)",
   "language": "python",
   "name": "python3"
  },
  "language_info": {
   "codemirror_mode": {
    "name": "ipython",
    "version": 3
   },
   "file_extension": ".py",
   "mimetype": "text/x-python",
   "name": "python",
   "nbconvert_exporter": "python",
   "pygments_lexer": "ipython3",
   "version": "3.9.13"
  }
 },
 "nbformat": 4,
 "nbformat_minor": 5
}
