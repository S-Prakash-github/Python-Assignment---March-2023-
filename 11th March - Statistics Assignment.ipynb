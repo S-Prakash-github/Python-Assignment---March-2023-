{
 "cells": [
  {
   "cell_type": "markdown",
   "id": "2c3803e1",
   "metadata": {},
   "source": [
    "#### Q1. What is the difference between a t-test and a z-test? Provide an example scenario where you would use each type of test"
   ]
  },
  {
   "cell_type": "markdown",
   "id": "78c2218a",
   "metadata": {},
   "source": [
    "Both t-tests and z-tests are statistical tests used to make inferences about population means based on sample means. However, there are some differences between the two tests:\n",
    "\n",
    "A t-test is used when the sample size is small (typically less than 30) and the population standard deviation is unknown, while a z-test is used when the sample size is large (typically greater than 30) and the population standard deviation is known or can be estimated.\n",
    "\n",
    "A t-test uses a t-distribution, which has more variability than a standard normal distribution used in a z-test. As a result, the critical values and p-values for a t-test are larger than those for a z-test, making it more conservative.\n",
    "\n",
    "Here are example scenarios where you would use each type of test:\n",
    "\n",
    ">Use a t-test: Suppose you want to test whether the mean height of a sample of 20 students in a school is significantly different from the population mean height. Since the population standard deviation is unknown, you would use a one-sample t-test to test this hypothesis.\n",
    "\n",
    ">Use a z-test: Suppose you want to test whether the mean weight of a sample of 1000 apples from a farm is significantly different from the population mean weight of all apples produced by the farm. Since the sample size is large and the population standard deviation can be estimated, you would use a one-sample z-test to test this hypothesis."
   ]
  },
  {
   "cell_type": "markdown",
   "id": "8210ea2a",
   "metadata": {},
   "source": [
    "#### Q2: Differentiate between one-tailed and two-tailed tests"
   ]
  },
  {
   "cell_type": "markdown",
   "id": "a3c6aa33",
   "metadata": {},
   "source": [
    "In hypothesis testing, a one-tailed test and a two-tailed test refer to the directionality of the alternative hypothesis.\n",
    "\n",
    "A one-tailed test (also called a directional test) is used when the alternative hypothesis specifies the direction of the difference or relationship between the population parameter and the sample statistic. In other words, the hypothesis test is testing for whether the sample statistic is significantly greater than or less than the population parameter. A one-tailed test is usually used when there is a priori reason to expect a particular direction of effect.\n",
    "\n",
    "For example, suppose a researcher wants to test whether a new medication improves test scores. The null hypothesis would be that there is no difference between the mean test scores of the two groups, while the alternative hypothesis would be that the mean test scores of the group taking the medication are significantly greater than the mean test scores of the control group.\n",
    "\n",
    "A two-tailed test (also called a non-directional test) is used when the alternative hypothesis does not specify the direction of the difference or relationship between the population parameter and the sample statistic. In other words, the hypothesis test is testing for whether the sample statistic is significantly different from the population parameter. A two-tailed test is usually used when there is no a priori reason to expect a particular direction of effect.\n",
    "\n",
    ">For example, suppose a researcher wants to test whether there is a difference in test scores between two groups of students. The null hypothesis would be that there is no difference in the mean test scores between the two groups, while the alternative hypothesis would be that the mean test scores of at least one group is significantly different from the mean test scores of the other group."
   ]
  },
  {
   "cell_type": "markdown",
   "id": "d7167263",
   "metadata": {},
   "source": [
    "#### Q3: Explain the concept of Type 1 and Type 2 errors in hypothesis testing. Provide an example scenario for each type of error"
   ]
  },
  {
   "cell_type": "markdown",
   "id": "cb21c403",
   "metadata": {},
   "source": [
    "Type I and Type II errors are two types of errors that can occur in hypothesis testing.\n",
    "\n",
    "Type I error occurs when the null hypothesis is rejected even though it is actually true. In other words, a Type I error is a false positive, which means that the researcher concludes that there is a significant effect or relationship when there is not. The probability of making a Type I error is denoted by the Greek letter alpha (α) and is also called the significance level of the test. A commonly used significance level is 0.05, which means that there is a 5% chance of making a Type I error.\n",
    "\n",
    "Example: Suppose a medical researcher wants to test a new drug to see if it lowers blood pressure. The null hypothesis is that the drug has no effect on blood pressure, while the alternative hypothesis is that it does lower blood pressure. If the researcher rejects the null hypothesis (i.e., concludes that the drug does lower blood pressure) when, in fact, it has no effect, they have made a Type I error.\n",
    "\n",
    "Type II error occurs when the null hypothesis is not rejected even though it is actually false. In other words, a Type II error is a false negative, which means that the researcher concludes that there is no significant effect or relationship when there is. The probability of making a Type II error is denoted by the Greek letter beta (β) and is affected by the sample size, the effect size, and the chosen significance level. The complement of beta, which is 1 - beta, is called the power of the test, which is the probability of correctly rejecting the null hypothesis when it is false.\n",
    "\n",
    "Example: Suppose a manufacturer wants to test whether a new production process produces more defective products than the old process. The null hypothesis is that there is no difference in the proportion of defective products between the new and old processes, while the alternative hypothesis is that there is a difference. If the manufacturer fails to reject the null hypothesis (i.e., concludes that there is no difference) when, in fact, the new process produces more defective products, they have made a Type II error.\n",
    "\n",
    "In summary, Type I error occurs when a researcher rejects a true null hypothesis, while Type II error occurs when a researcher fails to reject a false null hypothesis. Both types of errors can have serious consequences in scientific research and should be minimized by carefully choosing the significance level, sample size, and effect size of the study."
   ]
  },
  {
   "cell_type": "markdown",
   "id": "8ff3aefe",
   "metadata": {},
   "source": [
    "#### Q4:  Explain Bayes's theorem with an example."
   ]
  },
  {
   "cell_type": "markdown",
   "id": "dca61ccb",
   "metadata": {},
   "source": [
    "Bayes's theorem is a mathematical formula used to calculate the probability of an event occurring based on the prior knowledge of conditions that might be related to the event. It is widely used in statistical inference and decision making.\n",
    "\n",
    "The formula for Bayes's theorem is as follows:\n",
    "\n",
    "P(A|B) = P(B|A) * P(A) / P(B)\n",
    "\n",
    "where:\n",
    "\n",
    "- P(A|B) is the probability of event A given that event B has occurred\n",
    "- P(B|A) is the probability of event B given that event A has occurred\n",
    "- P(A) is the prior probability of event A\n",
    "- P(B) is the prior probability of event B\n",
    ">For example, suppose a factory produces two types of products, A and B. Type A products account for 60% of the total production, and type B products account for the remaining 40%. However, type B products are more likely to be defective, with a defect rate of 10%, compared to type A products with a defect rate of 5%. If a randomly selected product is found to be defective, what is the probability that it is type B?\n",
    "\n",
    "Using Bayes's theorem, we can calculate the probability as follows:\n",
    "\n",
    "- Let event A be the probability that the selected product is type B, i.e., P(A) = 0.4\n",
    "- Let event B be the probability that the selected product is defective, i.e., P(B) = 0.05 * 0.6 + 0.1 -  0.4 = 0.07\n",
    "- The probability of event B given event A is P(B|A) = 0.1\n",
    "- Therefore, the probability of event A given event B is:\n",
    "- P(A|B) = P(B|A) * P(A) / P(B) = 0.1 * 0.4 / 0.07 = 0.57 or 57%\n",
    "\n",
    "\n",
    "Therefore, given that the selected product is defective, the probability that it is type B is 57%.\n",
    "\n",
    "\n",
    "\n"
   ]
  },
  {
   "cell_type": "markdown",
   "id": "03476b43",
   "metadata": {},
   "source": [
    "#### Q5: What is a confidence interval? How to calculate the confidence interval, explain with an example."
   ]
  },
  {
   "cell_type": "markdown",
   "id": "07beac11",
   "metadata": {},
   "source": [
    "A confidence interval is a range of values that is likely to contain the true population parameter with a certain level of confidence. It is used in inferential statistics to estimate an unknown population parameter based on a sample statistic.\n",
    "\n",
    "To calculate a confidence interval, we need to have a sample statistic (such as the mean or proportion) and its standard error. The standard error measures the variability of the sample statistic and is calculated using the sample size and the population standard deviation (or an estimate of it).\n",
    "\n",
    "The formula for calculating a confidence interval for the population mean is:\n",
    "\n",
    "Confidence interval = sample mean ± (z-score x standard error)\n",
    "\n",
    "where the z-score is based on the desired level of confidence (e.g. 1.96 for a 95% confidence interval) and the standard error is calculated as the sample standard deviation divided by the square root of the sample size.\n",
    "\n",
    "For example, suppose we want to estimate the average height of a population of students. We take a random sample of 50 students and measure their heights. The sample mean height is 68 inches and the sample standard deviation is 3 inches. We want to calculate a 95% confidence interval for the population mean height.\n",
    "\n",
    "Using the formula above, we first calculate the standard error:\n",
    "\n",
    "- Standard error = 3 / sqrt(50) = 0.424\n",
    "\n",
    "Then, we find the z-score for a 95% confidence interval, which is 1.96. Finally, we plug in the values and calculate the confidence interval:\n",
    "\n",
    "Confidence interval = 68 ± (1.96 x 0.424) = (67.17, 68.83)\n",
    "\n",
    "This means that we are 95% confident that the true population mean height falls between 67.17 and 68.83 inches."
   ]
  },
  {
   "cell_type": "markdown",
   "id": "9f371dab",
   "metadata": {},
   "source": [
    "#### Q6. Use Bayes' Theorem to calculate the probability of an event occurring given prior knowledge of the event's probability and new evidence. Provide a sample problem and solution"
   ]
  },
  {
   "cell_type": "markdown",
   "id": "21504007",
   "metadata": {},
   "source": [
    "Suppose a blood test for a certain disease has a false positive rate of 2% and a false negative rate of 3%. In a certain population, the disease has a prevalence of 1 in 1000 individuals. If a person tests positive for the disease, what is the probability that they actually have the disease?\n",
    "\n",
    "Using Bayes' Theorem, we can calculate the probability of having the disease given a positive test result as follows:\n",
    "\n",
    "Let A be the event of having the disease, and let B be the event of testing positive for the disease. We want to find P(A|B), the probability of having the disease given a positive test result.\n",
    "\n",
    "From the problem statement, we know that P(B|A) = 0.97 (the true positive rate) and P(B|A') = 0.02 (the false positive rate). Also, we know that P(A) = 0.001, the prevalence of the disease.\n",
    "\n",
    "To find P(B), the probability of testing positive, we use the Law of Total Probability:\n",
    "\n",
    ">P(B) = P(B|A)P(A) + P(B|A')P(A') = 0.97 * 0.001 + 0.02 * 0.999 = 0.02095\n",
    "\n",
    "Now we can use Bayes' Theorem to find P(A|B):\n",
    "\n",
    ">P(A|B) = P(B|A)P(A) / P(B) = 0.97 * 0.001 / 0.02095 = 0.046\n",
    "\n",
    "So the probability of actually having the disease given a positive test result is only about 4.6%. This shows how important it is to consider both the sensitivity and specificity of a test, as well as the prevalence of the disease, when interpreting the results."
   ]
  },
  {
   "cell_type": "markdown",
   "id": "0a66d355",
   "metadata": {},
   "source": [
    "#### Q7. Calculate the 95% confidence interval for a sample of data with a mean of 50 and a standard deviation of 5. Interpret the results."
   ]
  },
  {
   "cell_type": "markdown",
   "id": "2f837fbd",
   "metadata": {},
   "source": [
    "To calculate the 95% confidence interval, we need to use the following formula:\n",
    "\n",
    "95% confidence interval = sample mean ± (z-score * standard error)\n",
    "\n",
    "where the z-score is based on the desired level of confidence (in this case, 95%), and the standard error is calculated as the standard deviation divided by the square root of the sample size.\n",
    "\n",
    "Using a z-score of 1.96 for a 95% confidence level, and assuming a sample size of 30 (although the sample size is not explicitly stated in the problem), we can calculate the 95% confidence interval as:\n",
    "\n",
    "95% confidence interval = 50 ± (1.96 * (5 / sqrt(30)))\n",
    "\n",
    "which simplifies to:\n",
    "\n",
    "95% confidence interval = 50 ± 1.81\n",
    "\n",
    "Interpreting the results, we can say with 95% confidence that the true population mean falls within the range of 48.19 to 51.81. This means that if we were to repeat this study many times, we would expect the calculated confidence interval to include the true population mean in 95% of those studies."
   ]
  },
  {
   "cell_type": "markdown",
   "id": "2849d43a",
   "metadata": {},
   "source": [
    "#### Q8. What is the margin of error in a confidence interval? How does sample size affect the margin of error? Provide an example of a scenario where a larger sample size would result in a smaller margin of error"
   ]
  },
  {
   "cell_type": "markdown",
   "id": "9527938a",
   "metadata": {},
   "source": [
    "The margin of error in a confidence interval is the amount of error that is allowed for in the estimate of a population parameter. It is the distance between the sample estimate and the true population value, and it represents the range of values within which the true population parameter is likely to fall.\n",
    "\n",
    "The margin of error is influenced by several factors, including the level of confidence desired and the sample size. A larger sample size generally results in a smaller margin of error, as it reduces the variability of the sample mean and leads to a more accurate estimate of the population parameter.\n",
    "\n",
    "For example, suppose a political campaign wants to estimate the proportion of voters in a particular district who plan to vote for their candidate in an upcoming election. They take a random sample of 500 voters and find that 60% of them plan to vote for their candidate. The campaign wants to know the margin of error at a 95% confidence level.\n",
    "\n",
    "Using the formula for margin of error, we have:\n",
    "\n",
    "Margin of error = z*(standard deviation/sqrt(n))\n",
    "\n",
    "Where z is the z-score corresponding to the desired confidence level (1.96 for 95% confidence), standard deviation is the sample standard deviation (assuming it is a good estimate of the population standard deviation), and n is the sample size.\n",
    "\n",
    "Assuming a standard deviation of 0.5 (estimated from previous elections) and a sample size of 500, we can calculate the margin of error as follows:\n",
    "\n",
    "Margin of error = 1.96*(0.5/sqrt(500)) = 0.044\n",
    "\n",
    "Therefore, we can say with 95% confidence that the true proportion of voters who plan to vote for the campaign's candidate is between 0.556 (60% - 0.044) and 0.644 (60% + 0.044)."
   ]
  },
  {
   "cell_type": "markdown",
   "id": "201834e2",
   "metadata": {},
   "source": [
    "#### Q9. Calculate the z-score for a data point with a value of 75, a population mean of 70, and a population standard deviation of 5. Interpret the results"
   ]
  },
  {
   "cell_type": "markdown",
   "id": "31823d14",
   "metadata": {},
   "source": [
    "The z-score can be calculated using the formula:\n",
    "\n",
    "z = (x - μ) / σ\n",
    "\n",
    "where:\n",
    "x = the data point value\n",
    "\n",
    "μ = the population mean\n",
    "\n",
    "σ = the population standard deviation\n",
    "\n",
    "Substituting the given values, we get:\n",
    "\n",
    "z = (75 - 70) / 5\n",
    "z = 1\n",
    "\n",
    "Interpretation: The data point of 75 is one standard deviation above the population mean of 70."
   ]
  },
  {
   "cell_type": "markdown",
   "id": "f6f13f69",
   "metadata": {},
   "source": [
    "#### Q10. In a study of the effectiveness of a new weight loss drug, a sample of 50 participants lost an average of 6 pounds with a standard deviation of 2.5 pounds. Conduct a hypothesis test to determine if the drug is significantly effective at a 95% confidence level using a t-test."
   ]
  },
  {
   "cell_type": "markdown",
   "id": "b146600a",
   "metadata": {},
   "source": [
    "To conduct a hypothesis test to determine if the weight loss drug is significantly effective at a 95% confidence level using a t-test, we need to set up the null and alternative hypotheses and perform the following steps:\n",
    "\n",
    "Null Hypothesis (H0): The mean weight loss from the drug is not significantly different from zero. µ = 0\n",
    "\n",
    "Alternative Hypothesis (Ha): The mean weight loss from the drug is significantly different from zero. µ ≠ 0\n",
    "\n",
    "- Significance level (α) = 0.05\n",
    "\n",
    "- Sample mean (x̄) = 6\n",
    "\n",
    "-  Sample standard deviation (s) = 2.5\n",
    "\n",
    "- Sample size (n) = 50\n",
    "\n",
    "- Degrees of freedom = n-1 = 50-1 = 49\n",
    "\n",
    "- Critical t-value (two-tailed test, α=0.05 and df=49) = ±2.0096\n",
    "\n",
    "Calculation of t-value:\n",
    "\n",
    "- t = (x̄ - µ) / (s / √n)\n",
    "- t = (6 - 0) / (2.5 / √50)\n",
    "- t = 21.21\n",
    "\n",
    "Since the calculated t-value (21.21) is greater than the critical t-value (±2.0096), we reject the null hypothesis.\n",
    "\n",
    "Conclusion: The weight loss drug is significantly effective at a 95% confidence level."
   ]
  },
  {
   "cell_type": "markdown",
   "id": "7ff48df5",
   "metadata": {},
   "source": [
    "#### Q11. In a survey of 500 people, 65% reported being satisfied with their current job. Calculate the 95% confidence interval for the true proportion of people who are satisfied with their job"
   ]
  },
  {
   "cell_type": "markdown",
   "id": "77d925e9",
   "metadata": {},
   "source": [
    "To calculate the 95% confidence interval for the true proportion of people who are satisfied with their job, we can use the following formula:\n",
    "\n",
    "CI = p ± z*√(p(1-p)/n)\n",
    "\n",
    "Where:\n",
    "- p = sample proportion = 0.65\n",
    "\n",
    "- z = z-score for a 95% confidence level = 1.96\n",
    "\n",
    "- n = sample size = 500\n",
    "\n",
    "Plugging in the values, we get:\n",
    "\n",
    "CI = 0.65 ± 1.96√((0.650.35)/500)\n",
    "\n",
    "Simplifying the expression, we get:\n",
    "\n",
    "CI = 0.65 ± 0.048\n",
    "\n",
    "Therefore, the 95% confidence interval for the true proportion of people who are satisfied with their job is:\n",
    "\n",
    "0.602 ≤ p ≤ 0.698\n",
    "\n",
    "This means that we can be 95% confident that the true proportion of people who are satisfied with their job falls within this range.\n",
    "\n",
    "\n",
    "\n"
   ]
  },
  {
   "cell_type": "markdown",
   "id": "6c68b840",
   "metadata": {},
   "source": [
    "#### Q12. A researcher is testing the effectiveness of two different teaching methods on student performance. Sample A has a mean score of 85 with a standard deviation of 6, while sample B has a mean score of 82 with a standard deviation of 5. Conduct a hypothesis test to determine if the two teaching methods have a significant difference in student performance using a t-test with a significance level of 0.01."
   ]
  },
  {
   "cell_type": "markdown",
   "id": "64d09751",
   "metadata": {},
   "source": [
    "To determine if there is a significant difference in student performance between the two teaching methods, we can conduct a two-sample t-test. The null hypothesis is that there is no significant difference in the means of the two samples, while the alternative hypothesis is that there is a significant difference in the means of the two samples.\n",
    "\n",
    "Let sample A have a mean score of x̄1 = 85, and a standard deviation of s1 = 6, and sample B have a mean score of x̄2 = 82 and a standard deviation of s2 = 5. The significance level is α = 0.01.\n",
    "\n",
    "We first calculate the pooled standard deviation using the formula:\n",
    "\n",
    "s_p = sqrt(((n1 - 1)s1^2 + (n2 - 1)s2^2)/(n1 + n2 - 2))\n",
    "\n",
    "s_p = sqrt(((496^2) + (495^2))/(50+50-2))\n",
    "\n",
    "s_p = 5.53\n",
    "\n",
    "where n1 and n2 are the sample sizes of sample A and B, respectively.\n",
    "\n",
    "Next, we calculate the t-statistic using the formula:\n",
    "\n",
    "t = (x̄1 - x̄2) / (s_p * sqrt(1/n1 + 1/n2))\n",
    "\n",
    "t = (85 - 82) / (5.53 * sqrt(1/50 + 1/50))\n",
    "\n",
    "t = 2.62\n",
    "\n",
    "The degrees of freedom for the t-distribution is df = n1 + n2 - 2 = 98.\n",
    "\n",
    "Using a t-table or calculator, we find the critical t-value for a two-tailed test with a significance level of 0.01 and 98 degrees of freedom to be ±2.638.\n",
    "\n",
    "Since the calculated t-value (2.62) is less than the critical t-value (±2.638), we fail to reject the null hypothesis. This means that there is not enough evidence to conclude that there is a significant difference in student performance between the two teaching methods at a 0.01 significance level.\n",
    "\n",
    "Therefore, we can conclude that there is insufficient evidence to show that one teaching method is significantly better than the other.\n",
    "\n",
    "\n",
    "\n"
   ]
  },
  {
   "cell_type": "markdown",
   "id": "15243ce4",
   "metadata": {},
   "source": [
    "#### Q13. A population has a mean of 60 and a standard deviation of 8. A sample of 50 observations has a mean of 65. Calculate the 90% confidence interval for the true population mean."
   ]
  },
  {
   "cell_type": "markdown",
   "id": "1a88168d",
   "metadata": {},
   "source": [
    "formula:\n",
    "\n",
    "CI = x̄ ± z*(s/√n)\n",
    "\n",
    "Where:\n",
    "- x̄ = sample mean (65)\n",
    "- s = sample standard deviation (unknown, so we use the population standard deviation of 8 instead)\n",
    "- n = sample size (50)\n",
    "- z = the z-score for the desired confidence level (we use 1.645 for a 90% confidence level, which can be found from a z-table or calculator)\n",
    "\n",
    "Plugging in the values, we get:\n",
    "\n",
    "\n",
    "CI = 65 ± 1.645*(8/√50)\n",
    "\n",
    "CI = 65 ± 2.327\n",
    "\n",
    "CI = (62.673, 67.327)\n",
    "\n",
    "Therefore, we can be 90% confident that the true population mean falls within the interval of (62.673, 67.327)."
   ]
  },
  {
   "cell_type": "markdown",
   "id": "822c91a6",
   "metadata": {},
   "source": [
    "#### Q14. In a study of the effects of caffeine on reaction time, a sample of 30 participants had an average reaction time of 0.25 seconds with a standard deviation of 0.05 seconds. Conduct a hypothesis test to determine if the caffeine has a significant effect on reaction time at a 90% confidence level using a t-test."
   ]
  },
  {
   "cell_type": "markdown",
   "id": "7cb88cd2",
   "metadata": {},
   "source": [
    "To conduct a hypothesis test, we need to establish our null and alternative hypotheses:\n",
    "\n",
    "Null hypothesis (H0): Caffeine has no significant effect on reaction time.\n",
    "\n",
    "Alternative hypothesis (Ha): Caffeine has a significant effect on reaction time.\n",
    "\n",
    "Since we have a sample size of 30, we can use a t-test to test our hypothesis. The formula for the t-statistic is:\n",
    "\n",
    ">t = (x̄ - μ) / (s / √n)\n",
    "\n",
    "Where:\n",
    "\n",
    "- x̄ = sample mean (0.25 seconds)\n",
    "- μ = hypothesized population mean (0.25 seconds under the null hypothesis)\n",
    "- s = sample standard deviation (0.05 seconds)\n",
    "- n = sample size (30)\n",
    "\n",
    "Plugging in the values, we get:\n",
    "\n",
    "t = (0.25 - 0.25) / (0.05 / √30) = 0\n",
    "\n",
    "The t-value is 0, which means that the sample mean is exactly equal to the hypothesized population mean under the null hypothesis.\n",
    "\n",
    "To calculate the p-value, we can use a t-distribution table or a calculator. With 29 degrees of freedom (df = n - 1 = 30 - 1), a t-value of 0, and a two-tailed test at a 90% confidence level, we get a p-value of 1.\n",
    "\n",
    "Since the p-value is greater than the significance level (0.1 for a 90% confidence level), we fail to reject the null hypothesis. This means that we do not have enough evidence to conclude that caffeine has a significant effect on reaction time at a 90% confidence level."
   ]
  },
  {
   "cell_type": "code",
   "execution_count": null,
   "id": "6b14b1af",
   "metadata": {},
   "outputs": [],
   "source": []
  }
 ],
 "metadata": {
  "kernelspec": {
   "display_name": "Python 3 (ipykernel)",
   "language": "python",
   "name": "python3"
  },
  "language_info": {
   "codemirror_mode": {
    "name": "ipython",
    "version": 3
   },
   "file_extension": ".py",
   "mimetype": "text/x-python",
   "name": "python",
   "nbconvert_exporter": "python",
   "pygments_lexer": "ipython3",
   "version": "3.9.13"
  }
 },
 "nbformat": 4,
 "nbformat_minor": 5
}
