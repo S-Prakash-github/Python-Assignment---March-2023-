{
 "cells": [
  {
   "cell_type": "markdown",
   "id": "b0bea393",
   "metadata": {},
   "source": [
    "#### Q1. What is Statistics?"
   ]
  },
  {
   "cell_type": "markdown",
   "id": "059eef8b",
   "metadata": {},
   "source": [
    "Statistics is a branch of mathematics that involves collecting, analyzing, interpreting, and presenting data. It is used to describe and summarize data, as well as to make inferences and predictions based on the data."
   ]
  },
  {
   "cell_type": "markdown",
   "id": "170d592c",
   "metadata": {},
   "source": [
    "#### Q2. Define the different types of statistics and give an example of when each type might be used."
   ]
  },
  {
   "cell_type": "markdown",
   "id": "7490f696",
   "metadata": {},
   "source": [
    "Descriptive statistics: Descriptive statistics involves summarizing and describing data using measures such as mean, median, mode, standard deviation, range, and frequency distributions. These measures provide a quantitative summary of the data and help to identify patterns, trends, and relationships in the data. Descriptive statistics are used when we want to understand the characteristics of a particular group or population. Examples of when descriptive statistics might be used include:\n",
    "A market researcher might use descriptive statistics to summarize the demographic characteristics of a target market.\n",
    "- An epidemiologist might use descriptive statistics to describe the incidence and prevalence of a disease in a population.\n",
    "- A teacher might use descriptive statistics to summarize the performance of their students on a test.\n",
    "\n",
    "\n",
    "Inferential statistics: Inferential statistics involves using sample data to make inferences about a larger population. Inferential statistics are used when we want to draw conclusions about a population based on a sample of data. Examples of when inferential statistics might be used include:\n",
    "- A political pollster might use inferential statistics to estimate the percentage of voters who support a particular candidate based on a sample of voters.\n",
    "- A medical researcher might use inferential statistics to test whether a new drug is effective in reducing the symptoms of a disease in a population.\n",
    "- A quality control engineer might use inferential statistics to determine whether a sample of products meets certain quality standards."
   ]
  },
  {
   "cell_type": "markdown",
   "id": "4979273d",
   "metadata": {},
   "source": [
    "#### Q3.  What are the different types of data and how do they differ from each other? Provide an example of each type of data."
   ]
  },
  {
   "cell_type": "markdown",
   "id": "0508ac05",
   "metadata": {},
   "source": [
    "> Quantitative data refers to data that is numerical in nature and can be measured or counted. It can be further classified into two types:\n",
    "\n",
    "- Discrete data: This type of quantitative data is made up of whole numbers and counts. It represents values that can only take specific values and cannot be subdivided further. Examples of discrete data include the number of siblings a person has, the number of cars in a parking lot, and the number of books in a library.\n",
    "\n",
    "- Continuous data: This type of quantitative data can take on any value within a certain range or interval. Continuous data can be measured on a scale and can be subdivided into smaller and smaller units. Examples of continuous data include height, weight, temperature, and time.\n",
    "\n",
    "> Qualitative data, on the other hand, refers to data that cannot be measured using numerical values, but instead describes a characteristic or quality of an object, person, or situation. Qualitative data can be further classified into two types:\n",
    "\n",
    "- Nominal data: This type of qualitative data consists of categories or labels that are used to name or identify a particular attribute or characteristic. Nominal data cannot be ordered or ranked. Examples of nominal data include the color of a car, gender, and the type of fruit.\n",
    "\n",
    "- Ordinal data: This type of qualitative data consists of categories or labels that can be ordered or ranked according to a particular criterion. Ordinal data represents a hierarchy or ranking of values, but the differences between the values are not necessarily equal. Examples of ordinal data include educational level (e.g. high school, college, graduate school), the severity of a disease (e.g. mild, moderate, severe), and customer satisfaction ratings (e.g. very satisfied, satisfied, neutral, dissatisfied, very dissatisfied).\n"
   ]
  },
  {
   "cell_type": "markdown",
   "id": "95ecb5a8",
   "metadata": {},
   "source": [
    "#### Q4. Categorise the following datasets with respect to quantitative and qualitative data types:\n",
    "\n",
    "(i)\tGrading in exam: A+, A, B+, B, C+, C, D, E\n",
    "\n",
    "(ii)\tColour of mangoes: yellow, green, orange, red\n",
    "\n",
    "(iii)\tHeight data of a class: [178.9, 179, 179.5, 176, 177.2, 178.3, 175.8,...]\n",
    "\n",
    "(iv)\tNumber of mangoes exported by a farm: [500, 600, 478, 672, …]"
   ]
  },
  {
   "cell_type": "markdown",
   "id": "815c43cd",
   "metadata": {},
   "source": [
    "(i) Grading in exam: A+, A, B+, B, C+, C, D, E - Qualitative data > Ordinal data\n",
    "(ii) Colour of mangoes: yellow, green, orange, red - Qualitative data > Nominal data\n",
    "(iii) Height data of a class: [178.9, 179, 179.5, 176, 177.2, 178.3, 175.8,...] - Quantitative data > Continuous data\n",
    "(iv) Number of mangoes exported by a farm: [500, 600, 478, 672, …] - Quantitative data > Descrete data"
   ]
  },
  {
   "cell_type": "markdown",
   "id": "69f6616c",
   "metadata": {},
   "source": [
    "#### Q5. Explain the concept of levels of measurement and give an example of a variable for each level."
   ]
  },
  {
   "cell_type": "markdown",
   "id": "f6ddd00d",
   "metadata": {},
   "source": [
    "Levels of measurement, also known as scales of measurement, refer to the different ways in which variables can be measured. \n",
    ">Nominal level of measurement: This is the lowest level of measurement and involves the use of categories or labels to distinguish between different groups or classes of items. Variables measured at the nominal level have no inherent order or numerical value. Examples of nominal variables include gender, eye color, race, religion, etc.\n",
    "\n",
    ">Ordinal level of measurement: This level of measurement involves the use of categories or labels to distinguish between different groups or classes of items, but these categories can be ordered or ranked based on some characteristic. Variables measured at the ordinal level have no inherent numerical value, but the order or ranking of categories has meaning. Examples of ordinal variables include academic grades (A, B, C, D, F), military ranks (private, sergeant, lieutenant, captain, etc.), and socioeconomic status (low, middle, high).\n",
    "\n",
    ">Interval level of measurement: This level of measurement involves variables that can be measured on a scale with equal intervals or distances between values. However, there is no true zero point, meaning that a value of zero does not indicate the complete absence of the characteristic being measured. Examples of interval variables include temperature (measured in degrees Celsius or Fahrenheit) and dates on a calendar.\n",
    "\n",
    ">Ratio level of measurement: This is the highest level of measurement and involves variables that can be measured on a scale with equal intervals or distances between values, and have a true zero point. This means that a value of zero indicates the complete absence of the characteristic being measured. Examples of ratio variables include height, weight, income, and age."
   ]
  },
  {
   "cell_type": "markdown",
   "id": "80c92360",
   "metadata": {},
   "source": [
    "#### Q6. Why is it important to understand the level of measurement when analyzing data? Provide an example to illustrate your answer."
   ]
  },
  {
   "cell_type": "markdown",
   "id": "1cd81585",
   "metadata": {},
   "source": [
    "Understanding the level of measurement is important when analyzing data because it determines the types of statistical analyses and visualizations that can be used, as well as the conclusions that can be drawn from the data. Different levels of measurement require different types of analysis, and using the wrong type of analysis can lead to incorrect or misleading conclusions.\n",
    "\n",
    "As another example, if we have a dataset of test scores on a 100-point scale for a group of students, the test score data is measured on an interval scale, meaning that the values have a fixed distance between them but do not have a true zero point. Because the test score data is on an interval scale, we can calculate measures such as the mean and standard deviation, but we cannot perform multiplication or division with the data. This means that we cannot meaningfully compare ratios of test scores, such as saying that one student's score is twice as high as another student's score.\n",
    "\n",
    "In summary, understanding the level of measurement is important because it determines the appropriate statistical analyses and visualizations that can be used, and the conclusions that can be drawn from the data. Using the wrong type of analysis for a particular level of measurement can lead to incorrect or misleading conclusions."
   ]
  },
  {
   "cell_type": "markdown",
   "id": "3cebb313",
   "metadata": {},
   "source": [
    "#### Q7. How nominal data type is different from ordinal data type"
   ]
  },
  {
   "cell_type": "markdown",
   "id": "031e0f04",
   "metadata": {},
   "source": [
    ">Nominal level of measurement: This is the lowest level of measurement and involves the use of categories or labels to distinguish between different groups or classes of items. Variables measured at the nominal level have no inherent order or numerical value. Examples of nominal variables include gender, eye color, race, religion, etc.\n",
    "\n",
    ">Ordinal level of measurement: This level of measurement involves the use of categories or labels to distinguish between different groups or classes of items, but these categories can be ordered or ranked based on some characteristic. Variables measured at the ordinal level have no inherent numerical value, but the order or ranking of categories has meaning. Examples of ordinal variables include academic grades (A, B, C, D, F), military ranks (private, sergeant, lieutenant, captain, etc.), and socioeconomic status (low, middle, high)."
   ]
  },
  {
   "cell_type": "markdown",
   "id": "ef465a94",
   "metadata": {},
   "source": [
    "#### Q8. Which type of plot can be used to display data in terms of range?"
   ]
  },
  {
   "cell_type": "markdown",
   "id": "131385d7",
   "metadata": {},
   "source": [
    "A box plot, also known as a box and whisker plot, is a type of plot that can be used to display data in terms of range. Box plots are particularly useful for displaying the spread of a dataset and identifying potential outliers.\n",
    "\n",
    "A box plot typically displays the following statistics:\n",
    "\n",
    "The median (middle value) of the dataset, which is represented by a line inside a box.\n",
    "The upper and lower quartiles (values that divide the dataset into quarters), which are represented by the top and bottom lines of the box.\n",
    "The minimum and maximum values of the dataset (excluding any outliers), which are represented by vertical lines (whiskers) extending from the box.\n",
    "Potential outliers, which are values that are significantly higher or lower than the rest of the dataset, may also be plotted as individual points or circles.\n",
    "\n",
    "Box plots provide a quick and easy way to compare the spread of multiple datasets, and to identify any differences or similarities between them. They can also be used to identify potential outliers or skewness in the data."
   ]
  },
  {
   "cell_type": "code",
   "execution_count": 4,
   "id": "132c7748",
   "metadata": {
    "scrolled": true
   },
   "outputs": [
    {
     "data": {
      "text/html": [
       "<div>\n",
       "<style scoped>\n",
       "    .dataframe tbody tr th:only-of-type {\n",
       "        vertical-align: middle;\n",
       "    }\n",
       "\n",
       "    .dataframe tbody tr th {\n",
       "        vertical-align: top;\n",
       "    }\n",
       "\n",
       "    .dataframe thead th {\n",
       "        text-align: right;\n",
       "    }\n",
       "</style>\n",
       "<table border=\"1\" class=\"dataframe\">\n",
       "  <thead>\n",
       "    <tr style=\"text-align: right;\">\n",
       "      <th></th>\n",
       "      <th>survived</th>\n",
       "      <th>pclass</th>\n",
       "      <th>sex</th>\n",
       "      <th>age</th>\n",
       "      <th>sibsp</th>\n",
       "      <th>parch</th>\n",
       "      <th>fare</th>\n",
       "      <th>embarked</th>\n",
       "      <th>class</th>\n",
       "      <th>who</th>\n",
       "      <th>adult_male</th>\n",
       "      <th>deck</th>\n",
       "      <th>embark_town</th>\n",
       "      <th>alive</th>\n",
       "      <th>alone</th>\n",
       "    </tr>\n",
       "  </thead>\n",
       "  <tbody>\n",
       "    <tr>\n",
       "      <th>0</th>\n",
       "      <td>0</td>\n",
       "      <td>3</td>\n",
       "      <td>male</td>\n",
       "      <td>22.0</td>\n",
       "      <td>1</td>\n",
       "      <td>0</td>\n",
       "      <td>7.25</td>\n",
       "      <td>S</td>\n",
       "      <td>Third</td>\n",
       "      <td>man</td>\n",
       "      <td>True</td>\n",
       "      <td>NaN</td>\n",
       "      <td>Southampton</td>\n",
       "      <td>no</td>\n",
       "      <td>False</td>\n",
       "    </tr>\n",
       "  </tbody>\n",
       "</table>\n",
       "</div>"
      ],
      "text/plain": [
       "   survived  pclass   sex   age  sibsp  parch  fare embarked  class  who  \\\n",
       "0         0       3  male  22.0      1      0  7.25        S  Third  man   \n",
       "\n",
       "   adult_male deck  embark_town alive  alone  \n",
       "0        True  NaN  Southampton    no  False  "
      ]
     },
     "execution_count": 4,
     "metadata": {},
     "output_type": "execute_result"
    }
   ],
   "source": [
    "## example of a box plot\n",
    "import pandas as pd\n",
    "import seaborn as sns\n",
    "df = sns.load_dataset(\"titanic\")\n",
    "df.head(1)"
   ]
  },
  {
   "cell_type": "code",
   "execution_count": 10,
   "id": "24887594",
   "metadata": {},
   "outputs": [
    {
     "data": {
      "text/plain": [
       "<AxesSubplot:xlabel='age'>"
      ]
     },
     "execution_count": 10,
     "metadata": {},
     "output_type": "execute_result"
    },
    {
     "data": {
      "image/png": "[encoded data removed]",
      "text/plain": [
       "<Figure size 640x480 with 1 Axes>"
      ]
     },
     "metadata": {},
     "output_type": "display_data"
    }
   ],
   "source": [
    "sns.boxplot(x = \"age\" , data = df, color = \"#0E8388\")"
   ]
  },
  {
   "cell_type": "markdown",
   "id": "56ca2bef",
   "metadata": {},
   "source": [
    "#### Q9. Describe the difference between descriptive and inferential statistics. Give an example of each type of statistics and explain how they are used."
   ]
  },
  {
   "cell_type": "markdown",
   "id": "5c44c5c0",
   "metadata": {},
   "source": [
    "Descriptive statistics is used to summarize and describe the characteristics of a set of data. It involves measures such as central tendency (mean, median, mode), dispersion (standard deviation, variance), and frequency distribution. Descriptive statistics provide information about the data itself and are useful for identifying patterns and trends within the data. For example, a study of college student performance might use descriptive statistics to summarize the grade point averages of a group of students.\n",
    "\n",
    "In contrast, inferential statistics is used to make inferences about a larger population based on a sample of data. It involves statistical tests such as hypothesis testing, correlation analysis, and regression analysis. Inferential statistics help researchers to draw conclusions about the population from a smaller subset of data. For example, a study of a new drug might use inferential statistics to determine if the drug is effective by comparing the treatment group to a control group.\n",
    "\n",
    "To illustrate the difference between descriptive and inferential statistics, consider a survey of 1,000 people about their favorite type of pizza. Descriptive statistics would summarize the data by providing information about the most popular type of pizza, the frequency of each type of pizza, and other characteristics of the data set. Inferential statistics, on the other hand, would be used to make predictions about the population based on the sample data. For example, a researcher might use inferential statistics to estimate the percentage of people in a larger population who prefer pepperoni pizza based on the survey data."
   ]
  },
  {
   "cell_type": "markdown",
   "id": "7ae802d5",
   "metadata": {},
   "source": [
    "#### Q10. What are some common measures of central tendency and variability used in statistics? Explain how each measure can be used to describe a dataset"
   ]
  },
  {
   "cell_type": "markdown",
   "id": "ddbc6b2c",
   "metadata": {},
   "source": [
    "Measures of central tendency and variability are important tools used in statistics to describe a dataset. Some common measures of central tendency and variability include:\n",
    "\n",
    ">Mean: The mean is the sum of all values in a dataset divided by the total number of values. The mean is often used as a measure of central tendency and provides an indication of the average value in a dataset. The mean can be influenced by outliers, or extreme values, in the dataset.It  gives us idea about the average of a perticular dataset.\n",
    "\n",
    ">Median: The median is the middle value in a dataset when the values are arranged in order. The median is another measure of central tendency and is less influenced by outliers compared to the mean. The median is particularly useful when the data is skewed, meaning that the distribution of values is not symmetrical. It can be used to fill missing values in a dataset and when compared with the mean it can tell us the presence of an outlier in the dataset.\n",
    "\n",
    ">Mode: The mode is the most frequently occurring value in a dataset. The mode is another measure of central tendency and can be used to describe the most common value in a dataset. The mode is particularly useful when the data is categorical or when the distribution of values is bimodal, meaning that there are two peaks in the distribution.Mode is used for replacing missing values from the dataset in a categorical column .\n",
    "\n",
    ">Standard deviation: The standard deviation is a measure of variability that describes how much the values in a dataset vary from the mean. The standard deviation is calculated by taking the square root of the variance. The standard deviation provides an indication of the spread of values in a dataset and is often used to describe the precision of measurements or the variability within a group of data.In a a dataset we can find out the position of a perticular datapoint.\n",
    "\n",
    ">Range: The range is the difference between the maximum and minimum values in a dataset. The range provides a measure of the spread of values in a dataset and can be used to describe the extent of variability in a dataset."
   ]
  },
  {
   "cell_type": "code",
   "execution_count": null,
   "id": "f9d75899",
   "metadata": {},
   "outputs": [],
   "source": []
  }
 ],
 "metadata": {
  "kernelspec": {
   "display_name": "Python 3 (ipykernel)",
   "language": "python",
   "name": "python3"
  },
  "language_info": {
   "codemirror_mode": {
    "name": "ipython",
    "version": 3
   },
   "file_extension": ".py",
   "mimetype": "text/x-python",
   "name": "python",
   "nbconvert_exporter": "python",
   "pygments_lexer": "ipython3",
   "version": "3.9.13"
  }
 },
 "nbformat": 4,
 "nbformat_minor": 5
}
